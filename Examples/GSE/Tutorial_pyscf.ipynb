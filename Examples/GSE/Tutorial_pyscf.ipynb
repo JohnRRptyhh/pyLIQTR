{
 "cells": [
  {
   "attachments": {},
   "cell_type": "markdown",
   "metadata": {},
   "source": [
    "# PYSCF Tutorial\n",
    "<h2> Distribution Statement </h2>\n",
    "\n",
    "DISTRIBUTION STATEMENT A. Approved for public release. Distribution is unlimited.\n",
    "\n",
    "<br>\n",
    "This material is based upon work supported by the Under Secretary of Defense for\n",
    "Research and Engineering under Air Force Contract No. FA8702-15-D-0001. Any opinions,\n",
    "findings, conclusions or recommendations expressed in this material are those of the\n",
    "author(s) and do not necessarily reflect the views of the Under Secretary of Defense\n",
    "for Research and Engineering.\n",
    "\n",
    "<br>\n",
    "© 2022 Massachusetts Institute of Technology.\n",
    "\n",
    "<br>\n",
    "<br>\n",
    "The software/firmware is provided to you on an As-Is basis\n",
    "\n",
    "<br>\n",
    "<br>\n",
    "Delivered to the U.S. Government with Unlimited Rights, as defined in DFARS Part\n",
    "252.227-7013 or 7014 (Feb 2014). Notwithstanding any copyright notice, U.S. Government\n",
    "rights in this work are defined by DFARS 252.227-7013 or DFARS 252.227-7014 as detailed\n",
    "above. Use of this work other than as specifically authorized by the U.S. Government\n",
    "may violate any copyrights that exist in this work."
   ]
  },
  {
   "cell_type": "code",
   "execution_count": 2,
   "metadata": {},
   "outputs": [],
   "source": [
    "from openfermion.chem import MolecularData, geometry_from_pubchem\n",
    "from openfermionpyscf import run_pyscf"
   ]
  },
  {
   "attachments": {},
   "cell_type": "markdown",
   "metadata": {},
   "source": [
    "This notebook serves as a brief tutorial to generating molecular hamiltonians using the pyscf library. For more explicit information on pyscf, we recommend the reader reference the pyscf website: \n",
    "\n",
    "https://github.com/quantumlib/OpenFermion-PySCF\n",
    "\n",
    "Please note, we are using an OpenFermion implementation of PySCF, not the standalone python library pyscf."
   ]
  },
  {
   "attachments": {},
   "cell_type": "markdown",
   "metadata": {},
   "source": [
    "## $H_2$\n",
    "The following cell demonstrates how to generate a molecular hamiltonian for the molecule $H_2$ using pyscf. The cell also demonstrates how to save the molecular hamiltonian to a local HDF5 file. \n",
    "\n",
    "<b>Note:</b> An HDF5 file containing a $H_2$ molecular hamiltonian was pre-assembled for use with the GSE notebooks in ~/Examples/GSE/"
   ]
  },
  {
   "cell_type": "code",
   "execution_count": 9,
   "metadata": {},
   "outputs": [],
   "source": [
    "### \n",
    "### Define the molecule and generate the Hamiltonian\n",
    "### using openfermion and openfermionpyscf tools\n",
    "###\n",
    "diatomic_bond_length = 0.7414\n",
    "geometry             = [\n",
    "    ('H', (0., 0., 0.)), \n",
    "    ('H', (0., 0., diatomic_bond_length))]\n",
    "basis = 'sto-3g'\n",
    "multiplicity = 1\n",
    "charge = 0\n",
    "description = str(diatomic_bond_length)\n",
    "\n",
    "molecule = MolecularData(geometry, basis, multiplicity, charge, description, filename='H2_Molecule')\n",
    "\n",
    "###\n",
    "### Uuse this command to calculate the 1e and 2e values.\n",
    "###\n",
    "molecule = run_pyscf(molecule,\n",
    "    run_scf=1,\n",
    "    run_mp2=0,\n",
    "    run_cisd=0,\n",
    "    run_ccsd=0,\n",
    "    run_fci=0,\n",
    "     verbose=0)\n",
    "\n",
    "###\n",
    "### Save the molecule to the file\n",
    "### specified above\n",
    "###\n",
    "molecule.save()\n"
   ]
  },
  {
   "attachments": {},
   "cell_type": "markdown",
   "metadata": {},
   "source": [
    "## $LiH$\n",
    "The following cell demonstrates how to generate a molecular hamiltonian for the molecule $LiH$ using pyscf. The cell also demonstrates how to save the molecular hamiltonian to a local HDF5 file. \n",
    "\n",
    "<b>Note:</b> An HDF5 file containing a $LiH$ molecular hamiltonian was pre-assembled for use with the GSE notebooks in ~/Examples/GSE/"
   ]
  },
  {
   "cell_type": "code",
   "execution_count": 4,
   "metadata": {},
   "outputs": [],
   "source": [
    "###\n",
    "### Define the molecule\n",
    "### and get the hamiltonian\n",
    "###\n",
    "geometry     = geometry_from_pubchem('LiH')\n",
    "basis        = 'sto-3g'\n",
    "multiplicity = 1\n",
    "charge       = 0\n",
    "description  = 'LiH'\n",
    "\n",
    "molecule = MolecularData(geometry, basis, multiplicity, charge, description, filename='LiH_Molecule')\n",
    "\n",
    "###\n",
    "### Uuse this command to calculate the 1e and 2e values.\n",
    "###\n",
    "molecule = run_pyscf(molecule,\n",
    "    run_scf=1,\n",
    "    run_mp2=0,\n",
    "    run_cisd=0,\n",
    "    run_ccsd=0,\n",
    "    run_fci=0,\n",
    "     verbose=0)\n",
    "\n",
    "###\n",
    "### Save the molecule to the file\n",
    "### specified above\n",
    "###\n",
    "molecule.save()\n"
   ]
  },
  {
   "attachments": {},
   "cell_type": "markdown",
   "metadata": {},
   "source": [
    "## $H$-Chains\n",
    "The following cell demonstrates how to generate molecular hamiltonians for $H$-chain molecules using pyscf. The cell also demonstrates how to save the molecular hamiltonians to local HDF5 files. \n",
    "\n",
    "<b>Note:</b> HDF5 files containing $H-$chain molecular hamiltonians were pre-assembled for use with the GSE notebooks in ~/Examples/GSE/"
   ]
  },
  {
   "attachments": {},
   "cell_type": "markdown",
   "metadata": {},
   "source": [
    "### $H_4$"
   ]
  },
  {
   "cell_type": "code",
   "execution_count": 6,
   "metadata": {},
   "outputs": [],
   "source": [
    "### \n",
    "### Define the molecule and generate the Hamiltonian\n",
    "### using openfermion and openfermionpyscf tools\n",
    "###\n",
    "diatomic_bond_length = 0.7414\n",
    "geometry             = [\n",
    "    ('H', (0., 0., 0.)), \n",
    "    ('H', (0., 0., diatomic_bond_length)),\n",
    "    ('H', (0., 0., 2.0*diatomic_bond_length)),\n",
    "    ('H', (0., 0., 3.0*diatomic_bond_length))]\n",
    "basis = 'sto-3g'\n",
    "multiplicity = 1\n",
    "charge = 0\n",
    "description = str(diatomic_bond_length)\n",
    "\n",
    "molecule = MolecularData(geometry, basis, multiplicity, charge, description, filename='H4_Molecule')\n",
    "\n",
    "###\n",
    "### Uuse this command to calculate the 1e and 2e values.\n",
    "###\n",
    "molecule = run_pyscf(molecule,\n",
    "    run_scf=1,\n",
    "    run_mp2=0,\n",
    "    run_cisd=0,\n",
    "    run_ccsd=0,\n",
    "    run_fci=0,\n",
    "     verbose=0)\n",
    "\n",
    "###\n",
    "### Save the molecule to the file\n",
    "### specified above\n",
    "###\n",
    "molecule.save()"
   ]
  },
  {
   "attachments": {},
   "cell_type": "markdown",
   "metadata": {},
   "source": [
    "### $H_8$"
   ]
  },
  {
   "cell_type": "code",
   "execution_count": 7,
   "metadata": {},
   "outputs": [],
   "source": [
    "### \n",
    "### Define the molecule and generate the Hamiltonian\n",
    "### using openfermion and openfermionpyscf tools\n",
    "###\n",
    "diatomic_bond_length = 0.7414\n",
    "geometry             = [\n",
    "    ('H', (0., 0., 0.)), \n",
    "    ('H', (0., 0., diatomic_bond_length)),\n",
    "    ('H', (0., 0., 2.0*diatomic_bond_length)),\n",
    "    ('H', (0., 0., 3.0*diatomic_bond_length)),\n",
    "    ('H', (0., 0., 4.0*diatomic_bond_length)),\n",
    "    ('H', (0., 0., 5.0*diatomic_bond_length)),\n",
    "    ('H', (0., 0., 6.0*diatomic_bond_length)),\n",
    "    ('H', (0., 0., 7.0*diatomic_bond_length))]\n",
    "basis = 'sto-3g'\n",
    "multiplicity = 1\n",
    "charge = 0\n",
    "description = str(diatomic_bond_length)\n",
    "\n",
    "molecule = MolecularData(geometry, basis, multiplicity, charge, description, filename='H8_Molecule')\n",
    "\n",
    "###\n",
    "### Uuse this command to calculate the 1e and 2e values.\n",
    "###\n",
    "molecule = run_pyscf(molecule,\n",
    "    run_scf=1,\n",
    "    run_mp2=0,\n",
    "    run_cisd=0,\n",
    "    run_ccsd=0,\n",
    "    run_fci=0,\n",
    "     verbose=0)\n",
    "\n",
    "###\n",
    "### Save the molecule to the file\n",
    "### specified above\n",
    "###\n",
    "molecule.save()"
   ]
  }
 ],
 "metadata": {
  "kernelspec": {
   "display_name": "gse",
   "language": "python",
   "name": "python3"
  },
  "language_info": {
   "codemirror_mode": {
    "name": "ipython",
    "version": 3
   },
   "file_extension": ".py",
   "mimetype": "text/x-python",
   "name": "python",
   "nbconvert_exporter": "python",
   "pygments_lexer": "ipython3",
   "version": "3.9.12"
  },
  "orig_nbformat": 4
 },
 "nbformat": 4,
 "nbformat_minor": 2
}
