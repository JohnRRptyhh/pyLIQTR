{
 "cells": [
  {
   "cell_type": "markdown",
   "metadata": {},
   "source": [
    "<h1>PEST-python: Python Interfaces for PEST </h1>"
   ]
  },
  {
   "cell_type": "markdown",
   "metadata": {},
   "source": [
    "<hr>\n",
    "DISTRIBUTION STATEMENT A. Approved for public release. Distribution is unlimited.\n",
    "\n",
    "This material is based upon work supported by the Under Secretary of Defense for\n",
    "Research and Engineering under Air Force Contract No. FA8702-15-D-0001. Any opinions,\n",
    "findings, conclusions or recommendations expressed in this material are those of the\n",
    "author(s) and do not necessarily reflect the views of the Under Secretary of Defense\n",
    "for Research and Engineering.\n",
    "\n",
    "© 2023 Massachusetts Institute of Technology.\n",
    "\n",
    "The software/firmware is provided to you on an As-Is basis\n",
    "\n",
    "Delivered to the U.S. Government with Unlimited Rights, as defined in DFARS Part\n",
    "252.227-7013 or 7014 (Feb 2014). Notwithstanding any copyright notice, U.S. Government\n",
    "rights in this work are defined by DFARS 252.227-7013 or DFARS 252.227-7014 as detailed\n",
    "above. Use of this work other than as specifically authorized by the U.S. Government\n",
    "may violate any copyrights that exist in this work.\n",
    "<hr><hr>"
   ]
  },
  {
   "cell_type": "markdown",
   "metadata": {},
   "source": [
    "<b>PEST-python</b> provides interface methods for PEST: a library of Julia-based electronic structure codes for `pyLIQTR`.  These wrappers can be used to (i) run the command-line version of PEST from within Python scripts and (ii) read PEST output into a Python workflow.  The discussion in this notebook documents these methods, while a general discussion of PEST is given in `pest-intro.ipynb`."
   ]
  },
  {
   "cell_type": "markdown",
   "metadata": {},
   "source": [
    "<h3><u>Loading PEST-python:</u></h3>"
   ]
  },
  {
   "cell_type": "code",
   "execution_count": 17,
   "metadata": {},
   "outputs": [],
   "source": [
    "import  numpy        as  np\n",
    "import  pest_python  as  pp"
   ]
  },
  {
   "cell_type": "markdown",
   "metadata": {},
   "source": [
    "<h3><u>Reading PEST Output</u></h3>"
   ]
  },
  {
   "cell_type": "markdown",
   "metadata": {},
   "source": [
    "PEST output is manipulated using the `HamiltonianCoefficients` class.  We can load a PEST Hamiltonian into the associated container using the `open_grid()` and `open_hamiltonian()` methods.  The example below uses a precomputed reference set for cyclic ozone ($\\text{O}_3$) encapsulated by fullerene cage ($\\text{C}_{60}$):"
   ]
  },
  {
   "cell_type": "code",
   "execution_count": 19,
   "metadata": {},
   "outputs": [],
   "source": [
    "H = pp.HamiltonianCoefficients()\n",
    "\n",
    "H.open_grid('../../data/hamiltonians/cyclic_ozone/C60-o3-opt-pad_7.5_Ecut_10.0_scale_1.0.grid.hdf5')\n",
    "H.open_hamiltonian('../../data/hamiltonians/cyclic_ozone/C60-o3-opt-pad_7.5_Ecut_10.0_scale_1.0.ham.hdf5')\n"
   ]
  },
  {
   "cell_type": "markdown",
   "metadata": {},
   "source": [
    "These data correspond to a DPW Hamiltonian.  To see the number of real-space grid points (basis functions) that define this system along each dimension, we can use the `n_points()`:\n"
   ]
  },
  {
   "cell_type": "code",
   "execution_count": 20,
   "metadata": {},
   "outputs": [
    {
     "data": {
      "text/plain": [
       "array([14, 15, 15])"
      ]
     },
     "execution_count": 20,
     "metadata": {},
     "output_type": "execute_result"
    }
   ],
   "source": [
    "n_points = H.n_points()\n",
    "n_points"
   ]
  },
  {
   "cell_type": "markdown",
   "metadata": {},
   "source": [
    "The total number of basis functions is then:"
   ]
  },
  {
   "cell_type": "code",
   "execution_count": 21,
   "metadata": {},
   "outputs": [
    {
     "data": {
      "text/plain": [
       "3150"
      ]
     },
     "execution_count": 21,
     "metadata": {},
     "output_type": "execute_result"
    }
   ],
   "source": [
    "N = np.prod(n_points)\n",
    "N"
   ]
  },
  {
   "cell_type": "markdown",
   "metadata": {},
   "source": [
    "The `HamiltonianCoefficients` object provides a table that relates each grid coordinates to a scalar index:"
   ]
  },
  {
   "cell_type": "code",
   "execution_count": 22,
   "metadata": {},
   "outputs": [
    {
     "data": {
      "text/plain": [
       "242"
      ]
     },
     "execution_count": 22,
     "metadata": {},
     "output_type": "execute_result"
    }
   ],
   "source": [
    "H.gridpt_to_id([1,1,2])"
   ]
  },
  {
   "cell_type": "markdown",
   "metadata": {},
   "source": [
    "A similar mapping is also provided for the distance vector between indices. For instance, the vector $\\vec{d}_{1,2} = \\vec{r}_1 - \\vec{r}_2$ is given by:"
   ]
  },
  {
   "cell_type": "code",
   "execution_count": 23,
   "metadata": {},
   "outputs": [
    {
     "data": {
      "text/plain": [
       "array([ 0,  0, -2])"
      ]
     },
     "execution_count": 23,
     "metadata": {},
     "output_type": "execute_result"
    }
   ],
   "source": [
    "r_1  =  np.array([0,0,1])\n",
    "r_3  =  np.array([0,0,3])\n",
    "\n",
    "d_1_3 = r_1 - r_3\n",
    "d_1_3"
   ]
  },
  {
   "cell_type": "markdown",
   "metadata": {},
   "source": [
    "Wich has a distance index given by:"
   ]
  },
  {
   "cell_type": "code",
   "execution_count": 24,
   "metadata": {},
   "outputs": [
    {
     "data": {
      "text/plain": [
       "4"
      ]
     },
     "execution_count": 24,
     "metadata": {},
     "output_type": "execute_result"
    }
   ],
   "source": [
    "H.distance_dict(d_1_3)"
   ]
  },
  {
   "cell_type": "markdown",
   "metadata": {},
   "source": [
    "The coefficients for a given Hamiltonian term are accessed using the scalar indices from `gridpt_to_id`.  For instance, the kinetic term $T(p-q) \\,c^\\dagger_p c_q$ coupling grid points $p = r_1$ and $q = r_2$ has a coefficient $T(p-q)$ given by:"
   ]
  },
  {
   "cell_type": "code",
   "execution_count": 25,
   "metadata": {},
   "outputs": [
    {
     "data": {
      "text/plain": [
       "0.06992250338350335"
      ]
     },
     "execution_count": 25,
     "metadata": {},
     "output_type": "execute_result"
    }
   ],
   "source": [
    "idx_1  =  H.gridpt_to_id(r_1)\n",
    "idx_3  =  H.gridpt_to_id(r_3)\n",
    "\n",
    "T_1_3 = H.T(idx_1,idx_3)\n",
    "T_1_3"
   ]
  },
  {
   "cell_type": "markdown",
   "metadata": {},
   "source": [
    "While the coefficient  $V(p-q)$ from the electron-electron interaction term $V(p-q)\\,n_p n_q$ is:"
   ]
  },
  {
   "cell_type": "code",
   "execution_count": 26,
   "metadata": {},
   "outputs": [
    {
     "data": {
      "text/plain": [
       "0.07710189501831369"
      ]
     },
     "execution_count": 26,
     "metadata": {},
     "output_type": "execute_result"
    }
   ],
   "source": [
    "V_1_3 = H.V(idx_1,idx_3)\n",
    "V_1_3"
   ]
  },
  {
   "cell_type": "markdown",
   "metadata": {},
   "source": [
    "With a similar access method is provided for the electron-ion coupling at each grid point:"
   ]
  },
  {
   "cell_type": "code",
   "execution_count": 27,
   "metadata": {},
   "outputs": [
    {
     "name": "stdout",
     "output_type": "stream",
     "text": [
      "9.100495248126224\n",
      "7.964596330330162\n"
     ]
    }
   ],
   "source": [
    "U_1 = H.U(idx_1)\n",
    "U_3 = H.U(idx_3)\n",
    "\n",
    "print(U_1)\n",
    "print(U_3)"
   ]
  },
  {
   "cell_type": "markdown",
   "metadata": {},
   "source": [
    "There are similar access method for the Pauli string coefficients (if they have been calculated).  The coefficients of the $X_p \\vec{Z} X_q$ / $Y_p \\vec{Z} Y_q$ and $Z_p \\otimes Z_q$ terms are:"
   ]
  },
  {
   "cell_type": "code",
   "execution_count": 28,
   "metadata": {},
   "outputs": [
    {
     "data": {
      "text/plain": [
       "0.034961251691751676"
      ]
     },
     "execution_count": 28,
     "metadata": {},
     "output_type": "execute_result"
    }
   ],
   "source": [
    "XZX_1_3 = H.c_xzx(idx_1,idx_3)\n",
    "XZX_1_3"
   ]
  },
  {
   "cell_type": "code",
   "execution_count": 29,
   "metadata": {},
   "outputs": [
    {
     "data": {
      "text/plain": [
       "0.019275473754578422"
      ]
     },
     "execution_count": 29,
     "metadata": {},
     "output_type": "execute_result"
    }
   ],
   "source": [
    "ZZ_1_3 = H.c_zz(idx_1,idx_3)\n",
    "ZZ_1_3"
   ]
  },
  {
   "cell_type": "markdown",
   "metadata": {},
   "source": [
    "And the single $Z_p$ contributions are given by:"
   ]
  },
  {
   "cell_type": "code",
   "execution_count": 30,
   "metadata": {},
   "outputs": [
    {
     "name": "stdout",
     "output_type": "stream",
     "text": [
      "-5.243389447608354\n",
      "-4.675439988710322\n"
     ]
    }
   ],
   "source": [
    "Z_1 = H.c_z(idx_1)\n",
    "Z_3 = H.c_z(idx_3)\n",
    "\n",
    "print(Z_1)\n",
    "print(Z_3)"
   ]
  },
  {
   "cell_type": "markdown",
   "metadata": {},
   "source": [
    "The constant offset can also be obtained:"
   ]
  },
  {
   "cell_type": "code",
   "execution_count": 31,
   "metadata": {},
   "outputs": [
    {
     "data": {
      "text/plain": [
       "4366.793541808929"
      ]
     },
     "execution_count": 31,
     "metadata": {},
     "output_type": "execute_result"
    }
   ],
   "source": [
    "C_I = H.c_i()\n",
    "C_I"
   ]
  },
  {
   "cell_type": "markdown",
   "metadata": {},
   "source": [
    "<b>TODO:</b> Decide convention for the constant terms.  The Google papers omit part of this offset; we can add this on explicitly, but that might cause confusion (this is largerly irrelevant for now anyway)."
   ]
  },
  {
   "cell_type": "markdown",
   "metadata": {},
   "source": [
    "If we want to build arrays containing all coefficients for a Hamiltonian, we might use a method like the following:"
   ]
  },
  {
   "cell_type": "code",
   "execution_count": 32,
   "metadata": {},
   "outputs": [],
   "source": [
    "# c_xzx_arr  =  np.zeros((N,N))\n",
    "# c_zz_arr   =  np.zeros((N,N))\n",
    "# c_z_arr    =  np.zeros(N)\n",
    "\n",
    "\n",
    "# for j in range(N):\n",
    "#     for k in range(N):\n",
    "#         c_xzx_arr[j,k]  =  H.c_xzx(j,k)\n",
    "#         c_zz_arr[j,k]   =  H.c_zz(j,k)\n",
    "\n",
    "#     c_z_arr[j]  =  H.c_z(j)\n"
   ]
  },
  {
   "cell_type": "markdown",
   "metadata": {},
   "source": [
    "However, this is generally unnecessary due to the provided access methods (many coefficients are either zero or symmetry-related)."
   ]
  }
 ],
 "metadata": {
  "kernelspec": {
   "display_name": "quantum_algorithms-main",
   "language": "python",
   "name": "python3"
  },
  "language_info": {
   "codemirror_mode": {
    "name": "ipython",
    "version": 3
   },
   "file_extension": ".py",
   "mimetype": "text/x-python",
   "name": "python",
   "nbconvert_exporter": "python",
   "pygments_lexer": "ipython3",
   "version": "3.8.17"
  },
  "orig_nbformat": 4
 },
 "nbformat": 4,
 "nbformat_minor": 2
}
