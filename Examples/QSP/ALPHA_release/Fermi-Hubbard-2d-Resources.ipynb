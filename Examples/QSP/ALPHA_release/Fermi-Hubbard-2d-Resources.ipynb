{
 "cells": [
  {
   "cell_type": "markdown",
   "metadata": {},
   "source": [
    "<h1>Fermi-Hubbard Hamiltonian (1d & 2d)</h1>"
   ]
  },
  {
   "cell_type": "markdown",
   "metadata": {},
   "source": [
    "<hr>\n",
    "DISTRIBUTION STATEMENT A. Approved for public release. Distribution is unlimited.\n",
    "\n",
    "This material is based upon work supported by the Under Secretary of Defense for\n",
    "Research and Engineering under Air Force Contract No. FA8702-15-D-0001. Any opinions,\n",
    "findings, conclusions or recommendations expressed in this material are those of the\n",
    "author(s) and do not necessarily reflect the views of the Under Secretary of Defense\n",
    "for Research and Engineering.\n",
    "\n",
    "© 2023 Massachusetts Institute of Technology.\n",
    "\n",
    "The software/firmware is provided to you on an As-Is basis\n",
    "\n",
    "Delivered to the U.S. Government with Unlimited Rights, as defined in DFARS Part\n",
    "252.227-7013 or 7014 (Feb 2014). Notwithstanding any copyright notice, U.S. Government\n",
    "rights in this work are defined by DFARS 252.227-7013 or DFARS 252.227-7014 as detailed\n",
    "above. Use of this work other than as specifically authorized by the U.S. Government\n",
    "may violate any copyrights that exist in this work."
   ]
  },
  {
   "cell_type": "markdown",
   "metadata": {},
   "source": [
    "<hr><hr>"
   ]
  },
  {
   "cell_type": "markdown",
   "metadata": {},
   "source": [
    "<hr>\n",
    "<h2>Generating Hamiltonians</h2>"
   ]
  },
  {
   "cell_type": "markdown",
   "metadata": {},
   "source": [
    "`pyLIQTR` can represent Hamiltonians as a sum of Pauli strings via the `lcu_strings` class.  The routines within this object can handle a variety of tasks, such as normalizing  Hamiltonians for use with QSP, generating matrix representations of the Hamiltonian operator, preparing input strings for circuit generation, consolidating repeated Pauli strings, or writing Hamiltonians to a volume for later use.  As one might surmise from its name, this class requires that the Hamiltonian  can be decomposed into a linear combination of unitary operators (LCU):\n",
    "\n",
    "\\begin{equation}\n",
    "H = \\sum_k \\alpha_k U_k,\n",
    "\\end{equation}\n",
    "\n",
    "where $U_k$ is a unitary operator and $\\alpha_k \\in \\mathbb{R}$ is its associated coefficient.  This holds by construction for our FH Hamiltonian."
   ]
  },
  {
   "cell_type": "markdown",
   "metadata": {},
   "source": [
    "To initiate our numerical approach, we must load a few required modules:"
   ]
  },
  {
   "cell_type": "code",
   "execution_count": 1,
   "metadata": {},
   "outputs": [],
   "source": [
    "import numpy              as  np\n",
    "\n",
    "import operator_strings   as  os\n",
    "import hamiltonians       as  hams"
   ]
  },
  {
   "cell_type": "markdown",
   "metadata": {},
   "source": [
    "We also specify parameters for our Fermi-Hubbard example:"
   ]
  },
  {
   "cell_type": "markdown",
   "metadata": {},
   "source": [
    "<hr>\n",
    "<h2>Generating Circuits</h2>"
   ]
  },
  {
   "cell_type": "markdown",
   "metadata": {},
   "source": [
    "<b>Step 1: Operator Rescaling</b>\n",
    "\n",
    "QSP-based simulations require a block encoding for the Hamiltonian $H$, which is only well-defined if $H$ satisfies the norm condition $|| H || \\leq 1$.  Since we are using an LCU as input, it is convenient to rescale this operator so that $H \\mapsto H / \\alpha$, where $\\alpha = \\sum_j | \\alpha_j |$ is a 1-norm defined by its coefficients.   To apply this, we will create an `lcu_strings` object for a Fermi-Hubbard instance:"
   ]
  },
  {
   "cell_type": "code",
   "execution_count": 2,
   "metadata": {},
   "outputs": [],
   "source": [
    "tfactor = 1\n",
    "N    =    8\n",
    "N_x  =    N;      N_y  =    N\n",
    "\n",
    "J    =  1.0;      U    =  2.0\n",
    "mu   =  0.0;      hz   =  0.0\n",
    "\n",
    "fh2d_lcu  =  hams.hamiltonian_fh_2d_strings(N_x=N_x,N_y=N_y,J=J,U=U,hz=hz,mu=mu)\n",
    "\n",
    "alpha = fh2d_lcu.get_alpha()                   # Hamiltonian rescaling factor\n",
    "\n",
    "t_max = N * tfactor                                  # maximal simulation time"
   ]
  },
  {
   "cell_type": "markdown",
   "metadata": {},
   "source": [
    "We then perform cleanup steps and conduct rescaling via:"
   ]
  },
  {
   "cell_type": "code",
   "execution_count": 3,
   "metadata": {},
   "outputs": [
    {
     "name": "stdout",
     "output_type": "stream",
     "text": [
      "Norm before rescaling:   352.0\n",
      "Norm after rescaling:    1.0000000000000002\n",
      "Rescaling factor 352.0\n"
     ]
    }
   ],
   "source": [
    "fh2d_lcu.cleanup()\n",
    "\n",
    "norm_0 = fh2d_lcu.get_coeff_norm()\n",
    "fh2d_lcu.rescale_coeff_norm()\n",
    "norm_1 = fh2d_lcu.get_coeff_norm()\n",
    "\n",
    "print(\"Norm before rescaling:  \", norm_0)\n",
    "print(\"Norm after rescaling:   \", norm_1)\n",
    "\n",
    "print(\"Rescaling factor\", fh2d_lcu.get_alpha())"
   ]
  },
  {
   "cell_type": "markdown",
   "metadata": {},
   "source": [
    "The rescaling factor is saved in the `lcu_strings` object (immutably after the first rescaling call), and it is accessible via `get_alpha()`. We must similarly rescale our timesteps so dynamics generated by the propagator $\\exp[-\\imath H t] = \\exp[\\imath (H/\\alpha) \\cdot (\\alpha t)]$ remain invariant:"
   ]
  },
  {
   "cell_type": "markdown",
   "metadata": {},
   "source": [
    "For now, we will skip the operator-level analysis of the QSP sequence and move directly to circuit generation.  This 4x4 instance has already crossed beyond a trivial execution time, and simulations are best conducted using more sophisticated computational techniques (these will be provided later using auxiliary notebooks, scripts, and reference data)."
   ]
  },
  {
   "cell_type": "markdown",
   "metadata": {},
   "source": [
    "<b>Step 2: Circuit generation.</b>\n",
    "\n",
    "We approach circuit generation by loading the required components of `pyLIQTR`:"
   ]
  },
  {
   "cell_type": "code",
   "execution_count": 4,
   "metadata": {},
   "outputs": [],
   "source": [
    "\n",
    "import cirq\n",
    "\n",
    "from   cirq.contrib.svg        import SVGCircuit\n",
    "\n",
    "from   pyLIQTR.QSP             import gen_qsp         as   qspFuncs\n",
    "from   pyLIQTR.QSP             import QSP             as   pQSP\n",
    "from   pyLIQTR.QSP.gen_qsp     import QSP_Simulator\n",
    "\n",
    "from   pyLIQTR.QSP.Hamiltonian import Hamiltonian     as pyH\n",
    "from   pyLIQTR.QSP.qsp_helpers import get_state_vector\n",
    "from   pyLIQTR.QSP.qsp_helpers import qsp_decompose_once, print_to_openqasm, prettyprint_qsp_to_qasm \n",
    "\n",
    "from   pyLIQTR.gate_decomp.cirq_transforms import clifford_plus_t_direct_transform\n"
   ]
  },
  {
   "cell_type": "markdown",
   "metadata": {},
   "source": [
    "The LCU that we constructed above must transferred into a dedicated Hamiltonian object for use with `pyLIQTR`'s circuit generation methods.  We do this by calling `pyLIQTR.QSP.Hamiltonian` (which we have aliased as `pyH`) with the rescaled input set: "
   ]
  },
  {
   "cell_type": "code",
   "execution_count": 5,
   "metadata": {},
   "outputs": [],
   "source": [
    "lcu_string_set  =  fh2d_lcu.strings()\n",
    "qsp_H           =  pyH(lcu_string_set)"
   ]
  },
  {
   "cell_type": "markdown",
   "metadata": {},
   "source": [
    "The next step is to generate QSP phase angles for our time evolution.  A dedicated set of routines in the circuit-generation code handles this task (though they will soon be deprecated in favor of the methods in `Angler`).  Unfortunately these methods can become cumbersome for large problems, at high precision, or for long timesteps.  If we are not interested in simulating the circuit $-$ but only in performing resource analysis $-$ we do not need to compute the actual phases. Instead, we can use analytical bounds to estimate an equivalent number of random phases.  This requires the use of an additional keyword (`mode=\"random\"`) in our input:\n"
   ]
  },
  {
   "cell_type": "code",
   "execution_count": 6,
   "metadata": {},
   "outputs": [
    {
     "name": "stdout",
     "output_type": "stream",
     "text": [
      "time \t # of required phases\n",
      "===============================\n",
      "8 \t 33\n"
     ]
    }
   ],
   "source": [
    "required_precision = 1e-2\n",
    "\n",
    "angles = []\n",
    "\n",
    "angles.append(qspFuncs.compute_hamiltonian_angles(qsp_H, t_max, required_precision, mode=\"random\")[0])\n",
    "\n",
    "print (\"time\",\"\\t\",\"# of required phases\")\n",
    "print (\"===============================\")\n",
    "for n in range(len(angles)):\n",
    "    print(t_max, \"\\t\", len(angles[n]))"
   ]
  },
  {
   "cell_type": "markdown",
   "metadata": {},
   "source": [
    "A QSP circuit with $N_\\text{phi}$ phase angles contains $N_\\text{phi} - 1$ repetitions of the Select oracle, which constitues the majority of our computational overhead.  To first order, we can perform an analysis for a single iterate and scale this the number of repetitions.  This is much more efficient than generating the full circuit."
   ]
  },
  {
   "cell_type": "code",
   "execution_count": 7,
   "metadata": {},
   "outputs": [],
   "source": [
    "qsp_generator   = pQSP.QSP(phis=angles[0], hamiltonian=qsp_H, target_size=qsp_H.problem_size)\n",
    "curr_circ       = qsp_generator.circuit()\n",
    "curr_circ = curr_circ[0:4]\n",
    "\n",
    "#SVGCircuit(curr_circ)      # uncomment to view circuit"
   ]
  },
  {
   "cell_type": "markdown",
   "metadata": {},
   "source": [
    "The nature of this repetition is made apparent by decomposing the circuit further:"
   ]
  },
  {
   "cell_type": "code",
   "execution_count": 8,
   "metadata": {},
   "outputs": [],
   "source": [
    "decomposed_circuit       = cirq.align_left(qsp_decompose_once(curr_circ))\n",
    "\n",
    "#SVGCircuit(decomposed_circuit)      # uncomment to view circuit"
   ]
  },
  {
   "cell_type": "markdown",
   "metadata": {},
   "source": [
    " As a general rule, we will see $N_\\text{phi} - 1$ instances of `SelVBase` and `Prepare` (each) and $N_\\text{phi} - 3$ repetitions of `MultiCZ` for a circuit containing $N_\\text{phi}$ phases.  The remainder are single-qubit Pauli operations.  \n",
    " \n",
    " We will demonstrate a subcircuit analysis for  `Prepare`-`SelVBase` segment and a `MultiCZ` segment.  In the first stage, we decompose the circuit down to controlled operations (CNOT, Toffolis, etc.):"
   ]
  },
  {
   "cell_type": "code",
   "execution_count": 9,
   "metadata": {},
   "outputs": [],
   "source": [
    "circ_selv_prep         =  decomposed_circuit[2:4]\n",
    "circ_selv_prep_cops    =  cirq.align_left(qsp_decompose_once(circ_selv_prep))\n",
    "\n",
    "#SVGCircuit(circ_selv_prep_cops)      # uncomment to view circuit"
   ]
  },
  {
   "cell_type": "code",
   "execution_count": 10,
   "metadata": {},
   "outputs": [],
   "source": [
    "circ_multicz           =  decomposed_circuit[7:8]\n",
    "circ_multicz_cops      =  cirq.align_left(qsp_decompose_once(circ_multicz))\n",
    "\n",
    "#SVGCircuit(circ_multicz_cops)      # uncomment to view circuit"
   ]
  },
  {
   "cell_type": "code",
   "execution_count": 11,
   "metadata": {},
   "outputs": [],
   "source": [
    "circ_selv_prep_cliff_t    = cirq.align_left(clifford_plus_t_direct_transform(circ_selv_prep_cops))\n",
    "circ_multicz_cliff_t      = cirq.align_left(clifford_plus_t_direct_transform(circ_multicz_cops))"
   ]
  },
  {
   "cell_type": "code",
   "execution_count": 12,
   "metadata": {},
   "outputs": [],
   "source": [
    "import resource_analysis as ran\n",
    "\n",
    "svp_nt,svp_ntinv = ran.get_t_counts(circ_selv_prep_cliff_t)\n",
    "mcz_nt,mcz_ntinv = ran.get_t_counts(circ_multicz_cliff_t)"
   ]
  },
  {
   "cell_type": "code",
   "execution_count": 13,
   "metadata": {},
   "outputs": [],
   "source": [
    "depth_selv_prep_cops      =  ran.get_gate_depth(circ_selv_prep_cops)\n",
    "depth_selv_prep_cliff_t   =  ran.get_gate_depth(circ_selv_prep_cliff_t)\n",
    "\n",
    "depth_multicz_cops        =  ran.get_gate_depth(circ_multicz_cops)\n",
    "depth_multicz_cliff_t     =  ran.get_gate_depth(circ_multicz_cliff_t)"
   ]
  },
  {
   "cell_type": "code",
   "execution_count": 14,
   "metadata": {},
   "outputs": [
    {
     "name": "stdout",
     "output_type": "stream",
     "text": [
      "\n",
      "Prepare + Select\n",
      "================================\n",
      " Clifford+T Depth:\t 46415\n",
      " T Count:\t\t 14322\n",
      " T^dag Count:\t\t 5658\n",
      " T Total:\t\t 19980\n",
      "\n",
      "\n",
      "MultiCZ\n",
      "================================\n",
      " Clifford+T Depth:\t 39\n",
      " T Count:\t\t 27\n",
      " T^dag Count:\t\t 36\n",
      " T Total:\t\t 63\n"
     ]
    }
   ],
   "source": [
    "print()\n",
    "print(\"Prepare + Select\\n================================\")\n",
    "print(\" Clifford+T Depth:\\t\", depth_selv_prep_cliff_t)\n",
    "print(\" T Count:\\t\\t\", svp_nt)\n",
    "print(\" T^dag Count:\\t\\t\", svp_ntinv)\n",
    "print(\" T Total:\\t\\t\", svp_nt + svp_ntinv)\n",
    "\n",
    "print(\"\\n\")\n",
    "print(\"MultiCZ\\n================================\")\n",
    "print(\" Clifford+T Depth:\\t\", depth_multicz_cliff_t)\n",
    "print(\" T Count:\\t\\t\", mcz_nt)\n",
    "print(\" T^dag Count:\\t\\t\", mcz_ntinv)\n",
    "print(\" T Total:\\t\\t\", mcz_nt + mcz_ntinv)"
   ]
  },
  {
   "cell_type": "code",
   "execution_count": 15,
   "metadata": {},
   "outputs": [
    {
     "name": "stdout",
     "output_type": "stream",
     "text": [
      "OPENQASM time = 1.0678579807281494 0.0032930374145507812\n"
     ]
    }
   ],
   "source": [
    "#Write it.\n",
    "import time\n",
    "t0 = time.time()\n",
    "with open('circ_selv_prep_cliff_t_N{}.qasm'.format(N),'w') as f:\n",
    "    print_to_openqasm(f, circ_selv_prep_cliff_t)\n",
    "t1 = time.time()\n",
    "with open('circ_multicz_cliff_t_N{}_CpT.qasm'.format(N),'w') as f:\n",
    "    print_to_openqasm(f, circ_multicz_cliff_t)\n",
    "t2 = time.time()\n",
    "print(\"OPENQASM time = {} {}\".format(t1-t0, t2-t1))"
   ]
  },
  {
   "cell_type": "code",
   "execution_count": null,
   "metadata": {},
   "outputs": [],
   "source": []
  }
 ],
 "metadata": {
  "kernelspec": {
   "display_name": "Python 3 (ipykernel)",
   "language": "python",
   "name": "python3"
  },
  "language_info": {
   "codemirror_mode": {
    "name": "ipython",
    "version": 3
   },
   "file_extension": ".py",
   "mimetype": "text/x-python",
   "name": "python",
   "nbconvert_exporter": "python",
   "pygments_lexer": "ipython3",
   "version": "3.10.4"
  }
 },
 "nbformat": 4,
 "nbformat_minor": 2
}
