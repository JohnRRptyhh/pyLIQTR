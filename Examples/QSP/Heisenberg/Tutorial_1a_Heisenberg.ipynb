{
 "cells": [
  {
   "cell_type": "markdown",
   "id": "9095b0e3",
   "metadata": {},
   "source": [
    "<h1>Example: Heisenberg Model</h1>\n",
    "<hr>\n",
    "DISTRIBUTION STATEMENT A. Approved for public release. Distribution is unlimited.\n",
    "\n",
    "This material is based upon work supported by the Under Secretary of Defense for\n",
    "Research and Engineering under Air Force Contract No. FA8702-15-D-0001. Any opinions,\n",
    "findings, conclusions or recommendations expressed in this material are those of the\n",
    "author(s) and do not necessarily reflect the views of the Under Secretary of Defense\n",
    "for Research and Engineering.\n",
    "\n",
    "© 2023 Massachusetts Institute of Technology.\n",
    "\n",
    "The software/firmware is provided to you on an As-Is basis\n",
    "\n",
    "Delivered to the U.S. Government with Unlimited Rights, as defined in DFARS Part\n",
    "252.227-7013 or 7014 (Feb 2014). Notwithstanding any copyright notice, U.S. Government\n",
    "rights in this work are defined by DFARS 252.227-7013 or DFARS 252.227-7014 as detailed\n",
    "above. Use of this work other than as specifically authorized by the U.S. Government\n",
    "may violate any copyrights that exist in this work."
   ]
  },
  {
   "cell_type": "code",
   "execution_count": 1,
   "id": "e12e3a8c",
   "metadata": {},
   "outputs": [],
   "source": [
    "###\n",
    "### General imports\n",
    "###\n",
    "\n",
    "\n",
    "import numpy              as np\n",
    "import numpy.linalg       as la\n",
    "import scipy.integrate    as spi\n",
    "import matplotlib.pyplot  as plt\n",
    "\n",
    "\n",
    "###\n",
    "### Operator simulation & Hamiltonian\n",
    "### preperation imports\n",
    "###\n",
    "from   pyLIQTR.sim_methods.simqsp             import SimQSP\n",
    "import pyLIQTR.sim_methods.quantum_ops        as     qops    \n",
    "   \n",
    "\n",
    "###\n",
    "### Ploting and text output settings\n",
    "###\n",
    "\n",
    "np.set_printoptions(precision=2)\n",
    "\n"
   ]
  },
  {
   "attachments": {},
   "cell_type": "markdown",
   "id": "066dd9b8",
   "metadata": {},
   "source": [
    "<hr>\n",
    "<h2><u>Heisenberg Model</u></h2>\n",
    "<h3>Background</h3>\n",
    "\n",
    "This notebook describes how `pyLIQTR` can be used to simulate the spin$-1/2$ Heisenberg model.  While this terminology tends to suggest a single physical problem, the associated Heisenberg Hamiltonian can actually accommodate a broad range of $k$-local physics. Stated succinctly, we define this as\n",
    "\n",
    "\\begin{equation}\n",
    "H =  \\sum_{\\langle j,k \\rangle} \\left[ J^x_{j,k} (X_{j} \\otimes X_{k}) + J^y_{j,k}  (Y_j \\otimes Y_{k}) + \n",
    "J^z_{j,k} (Z_j  \\otimes  Z_{k}) \\right] + \n",
    "\\sum_j \\left[ h^{x}_j X_j + h^{y}_j Y_j +  h^{z}_j Z_j \\right], \n",
    "\\end{equation}\n",
    "\n",
    "where $\\{X_j, Y_j, Z_j\\}$ are Pauli spin operators acting on site (vertex) $j$ of some lattice (graph).  This construction assumes that there is a single spin at each lattice site (vertex), with the notation $\\langle j,k \\rangle$ used to denote a summation over  pairs of these sites. It is immediately apparent that there are two key components to this model: a set of pairwise spin-spin couplings (e.g., $X_{j} \\otimes X_{k}$) between spins on sites $j$ and $k$, and a set of local fields  (e.g., $X_j$) at each spin site. The real constants $J^{x (y,z)}_{j,k}$ and $h^{x (y,z)}_j$ reflect the strengths of these respective interactions.  A slightly more subtle $-$ but equally important $-$ fact is that these pairwise interactions can be defined for a system of any spatial dimensionality or lattice geometry.\n",
    "\n",
    "We can use this formality to gain a bit of physical intuition.  Notably, the Pauli operators can be used to define a vector spin $\\vec{s} |\\psi \\rangle =  \\big(s_x X + s_y Y + s_z Z\\big) | \\psi \\rangle$ through action of the operator $\\hat{\\sigma} = (X + Y + Z)$ on a spinor wavefunction (this is just the action of the tangent space basis elements in $\\mathfrak{su}(2)$ acting on a function).  The tensor product then gives a construct analogous to the dot product of these spins\n",
    "\n",
    "\\begin{split}\n",
    "\\vec{s}_1 \\cdot \\vec{s}_2 & = s_{x,1} s_{x,2} + s_{y,1} s_{y,2} + s_{z,1} s_{z,2} \\\\\n",
    "& = \\big(\\langle \\psi_1 | \\otimes \\langle \\psi_2 | \\big) \\cdot \\big[ X\\otimes X + Y\\otimes Y + Z \\otimes Z\\big] \\cdot \\big( |\\psi_1 \\rangle \\otimes | \\psi_2 \\rangle\\big)\n",
    "\\end{split}\n",
    "\n",
    "and draws a concrete analogy with the classical Heisenberg Hamiltonian\n",
    "\n",
    "\\begin{equation}\n",
    "H = \\sum_{\\langle i j\\rangle} \\vec{S}_1 \\cdot \\vec{S}_2\n",
    "\\end{equation}\n",
    "\n",
    "where $\\vec{S}_i \\in \\mathbb{R}^3$ are classical spin vectors.\n",
    "<hr>\n",
    "\n",
    "The Heisenberg model holds a special place in the context of quantum computation and quantum simulation.  Notably, this Hamiltonian is directly assembled from the Pauli operators $\\{X, Y, Z\\}$, which generate a complex representation of the $\\mathfrak{su(2)}$ algebra.  Moreover, the time evolution of a local coupling gives an  an $SU(2)$ rotation $-$ and thus the $\\{R_x, R_y, R_z \\}$ rotation gates $-$ by action of the exponential map.  These operations are fundamental to qubit-based architectures, making this model and its descendants a natural framework for quantum simulation.  \n",
    "\n",
    "Aside from computational frameworks, the Heisenberg Hamiltonian has been used to model physical systems that span from molecular magnets to spin-density waves to far-flung analogues of  hydrodynamic phenomena.  Many interesting spin models are actually formal limits of this Hamiltonian, including the XXZ model and the transverse-field Ising model), which we examine at length in a separate notebook.  Moreover, this broad application space has motivated the development of extensive  analytical treatments.  Several limits of the Heisenberg model have thus been proven integrable, demonstrating that they can be simulated in polynomial time using classical resources.   Nonetheless, these analytical results remain limited in scope and most parameter regimes still constitute quantum hard problems.  \n",
    "\n",
    "In the case of the Heisenberg model, this hardness reflects a remarkable degree of  generality.  It is fairly straightforward to demonstrate how an arbitrary $k$-local Hamiltonian can simulate bosons, fermions, or qudit systems (e.g., via the Jordan-Winger transform for Fermions, etc.).  A more nontrivial effort has shown that the Heisenberg model is actually universal for the simulation of these $k$-local Hamiltonians and thus can capture the same range of phenomena.  While this reductive approach might not be advantageous for all such simulation problems, they remain fundamentally simulable as instances as of the Heisenberg Hamiltonian.\n",
    "\n",
    "We will demonstrate the capabilities of `pyLIQTR` by working with this model in several limits of physical intereset.\n",
    "<h3>Background: 1-d Heisenberg Model</h3>\n",
    "To streamline our discussion, we will consider a limiting regime of the Heisenberg Hamiltonian.  More specifically, we will work with a one-dimensional spin chain with nearest-neighbor interactions:\n",
    "\n",
    "\\begin{equation}\n",
    "H =  \\sum_{j=1}^{N-1} \\left[ J^x_j (X_j \\otimes X_{j+1}) + J^y_j  (Y_j \\otimes Y_{j+1}) + \n",
    "J^z_j (Z_j  \\otimes  Z_{j+1}) \\right] + \n",
    "\\sum_{j=1}^N \\left[ h^{x}_j X_j + h^{y}_j Y_j +  h^{z}_j Z_j \\right]\n",
    "\\end{equation}\n",
    "\n",
    "where the local couplings $J^{x (y,z)}_j$ and fields $h^{x (y,z)}_j$ may vary from site-to-site when disorder is present, but are otherwise constant.  The dynamics in our simulations will be driven by a quench from an initial product state $-$ that is, we instantaneously apply a new Hamiltonian for which  $|\\psi_0\\rangle$  is not an eigenstate.\n",
    "\n",
    "We will approach two cases in our discussion:\n",
    "\n",
    "\n",
    "1. <b> General Heisenberg Antiferromagnet:</b> In this case we have antiferromagnetic spin-spin couplings $J^{x (y,z)}_j = J^{x (y,z)} > 0$ </li>  and a set of nonzero applied fields $h^{x (y,z)}_j = h^{x (y,z)}$. We will consider a quench from the product state $|\\psi(0)\\rangle = \\otimes_{j=1}^N |Z+\\rangle$ where $|Z+\\rangle = |\\uparrow_i\\rangle$ is the \"spin-up\" eigenstate of the Pauli $Z$ operator.  \n",
    "2. <b> XXZ Hamiltonian:</b> Here we have an instance with $J^{x,y}_j = J$ and $J^{z}_j = J_z$.  External fields $h^{x (y,z)}_j = h^{x (y,z)}$ may or may not be present. We again consider a quench from the product state $|\\psi(0)\\rangle = \\otimes_{j=1}^N |Z+\\rangle$ where $|Z+\\rangle = |\\uparrow_i\\rangle$ is the \"spin-up\" eigenstate of the Pauli $Z$ operator.  This model exhibits a phase transition between XY and Ferromagnetic regimes when $J/J_z \\longrightarrow -1$.\n",
    "\n",
    "<h3>Heisenberg Hamiltonian Parameters</h3>\n",
    "\n",
    "To facilitate our discussion, separate input blocks are provided for each Heisenberg instance outlined above.  Since the remainder of the notebook is case-independent, it is only necessary to run evaluate the cells for the particular problem(s) of interest.\n",
    "\n",
    "<h4>Model 1: General Heisenberg Antiferromagnet</h4>\n",
    "\n",
    "Here we define the Hamiltonian for an $N = 3$ site antiferromagnetic Heisenberg model.  It is conveneient to specify parameters in terms of $J_z$, which will set a characteristic energy for the system.\n",
    "\n",
    "Run the below cell only if you're interested in Model 1"
   ]
  },
  {
   "cell_type": "code",
   "execution_count": 2,
   "id": "6048c746",
   "metadata": {},
   "outputs": [],
   "source": [
    "\n",
    "N    =   3;       \n",
    "\n",
    "J_z  =   0.5;\n",
    "\n",
    "J_x  =   2.0*J_z;     J_y  =   0.5*J_z;               \n",
    "h_x  =  -1.0*J_z;     h_y  =   0.0*J_z;     h_z  =   0.1*J_z;\n"
   ]
  },
  {
   "attachments": {},
   "cell_type": "markdown",
   "id": "3dddfdde",
   "metadata": {},
   "source": [
    "<h4>Model 2: XXZ Hamiltonian</h4>\n",
    "\n",
    "Here we define the Hamiltonian for an $N = 3$ site homogeneous XXZ model, just outside of the XY to ferromagnetic transition ($J^z = 1.0$, $J^x = J^y = 1.1 \\cdot J^z$). We also include a $h^x$ term to drive some interesting dynamics.\n",
    "\n",
    "Run the below cell only if you're interested in Model 2"
   ]
  },
  {
   "cell_type": "code",
   "execution_count": 3,
   "id": "dfe24fb1",
   "metadata": {},
   "outputs": [],
   "source": [
    "\n",
    "N    =    3;       \n",
    "\n",
    "J_z  =    1.0;\n",
    "\n",
    "J_x  =    1.1*J_z;     J_y  =   J_x;               \n",
    "h_x  =   -1.0*J_z;     h_y  =   0.0*J_z;     h_z  =   0.0*J_z;\n"
   ]
  },
  {
   "cell_type": "markdown",
   "id": "0b70ddf2",
   "metadata": {},
   "source": [
    "<h3>Generating Heisenberg Hamiltonians</h3>"
   ]
  },
  {
   "cell_type": "markdown",
   "id": "b4950ae1",
   "metadata": {},
   "source": [
    " PyLIQTR provides a `params_heisenberg_1d` method within the `quantum_ops` module.  This routine can generate input parameter sets for a range of Heisenberg-type models:"
   ]
  },
  {
   "cell_type": "code",
   "execution_count": 4,
   "id": "68293b58",
   "metadata": {},
   "outputs": [],
   "source": [
    "\n",
    "tuples,types,coeffs = qops.params_heisenberg_1d(N,\n",
    "                                                J_x=J_x,J_y=J_y,J_z=J_z,\n",
    "                                                h_x=h_x,h_y=h_y,h_z=h_z,\n",
    "                                                periodic=False)\n"
   ]
  },
  {
   "cell_type": "markdown",
   "id": "0174fd84",
   "metadata": {},
   "source": [
    "Note that there is also an optional keyword argument `periodic` which allows us to generate a Hamiltonian with periodic boundary conditions. The returned objects describe this Hamiltonian: `tuples` enumerates the lattice sites which are coupled,  `types` describes the nature of these couplings, and the corresponding coefficients are placed into `coeffs`.  For this example:\n"
   ]
  },
  {
   "cell_type": "code",
   "execution_count": 5,
   "id": "8674ac71",
   "metadata": {},
   "outputs": [
    {
     "name": "stdout",
     "output_type": "stream",
     "text": [
      "\n",
      "Sites     \t Type \t\t Coefficient\n",
      "-------------------------------------------------- \n",
      "\n",
      "(0, 1) \t\t XX \t\t 1.1\n",
      "(1, 2) \t\t XX \t\t 1.1\n",
      "(0, 1) \t\t YY \t\t 1.1\n",
      "(1, 2) \t\t YY \t\t 1.1\n",
      "(0, 1) \t\t ZZ \t\t 1.0\n",
      "(1, 2) \t\t ZZ \t\t 1.0\n",
      "0 \t\t X \t\t -1.0\n",
      "1 \t\t X \t\t -1.0\n",
      "2 \t\t X \t\t -1.0\n",
      "\n"
     ]
    }
   ],
   "source": [
    "\n",
    "print(\"\\nSites     \\t Type \\t\\t Coefficient\\n\",end=\"\")\n",
    "print(\"-\"*50,\"\\n\")\n",
    "for j in range(len(tuples)):\n",
    "    print(tuples[j],\"\\t\\t\", types[j], \"\\t\\t\", coeffs[j])\n",
    "print(\"\")\n"
   ]
  },
  {
   "cell_type": "markdown",
   "id": "e7b7b0f7",
   "metadata": {},
   "source": [
    "which corresponds to the four-site Heisenberg Hamiltonian:\n",
    "\n",
    "\n",
    "\\begin{equation}\n",
    "H =  \\sum_{j=1}^{3} \\left[ J^x (X_j \\otimes X_{j+1}) + J^y  (Y_j \\otimes Y_{j+1}) + \n",
    "J^z (Z_j  \\otimes  Z_{j+1}) \\right] + \n",
    "\\sum_{j=1}^4 \\left[ h^{x}_j X_j + h^{y}_j Y_j +  h^{z}_j Z_j \\right]\n",
    "\\end{equation}\n",
    "\n"
   ]
  },
  {
   "cell_type": "markdown",
   "id": "07664c7a",
   "metadata": {},
   "source": [
    "<i><b>Generating Pauli Strings<b></i>"
   ]
  },
  {
   "cell_type": "markdown",
   "id": "4ca7cb87",
   "metadata": {},
   "source": [
    "The circuit preparation routines in `pyLIQTR` require that we specify Pauli strings as input. An isolated set of these can be produced by passing the preceding output the `ps_text_full_set` function:\n"
   ]
  },
  {
   "cell_type": "code",
   "execution_count": 6,
   "id": "9d01a770",
   "metadata": {},
   "outputs": [
    {
     "name": "stdout",
     "output_type": "stream",
     "text": [
      "\n",
      "Strings     \n",
      "-------------------------------------------------- \n",
      "\n",
      "XXI\n",
      "IXX\n",
      "YYI\n",
      "IYY\n",
      "ZZI\n",
      "IZZ\n",
      "XII\n",
      "IXI\n",
      "IIX\n",
      "\n"
     ]
    }
   ],
   "source": [
    "tuples_full = qops.ps_text_full_set(tuples,types,N)\n",
    "\n",
    "print(\"\\nStrings     \\n\",end=\"\")\n",
    "print(\"-\"*50,\"\\n\")\n",
    "for j in range(len(tuples)):\n",
    "    print(tuples_full[j])\n",
    "print(\"\")"
   ]
  },
  {
   "cell_type": "markdown",
   "id": "e67853d1",
   "metadata": {},
   "source": [
    "\n",
    "Conspicuously absent are numerical values for the couplings and fields, which will also be used to generate circuits.  We can generate more pertinent output by passing the coefficients as a keyword argument to `ps_text_full_set`:\n"
   ]
  },
  {
   "cell_type": "code",
   "execution_count": 7,
   "id": "57a34812",
   "metadata": {},
   "outputs": [
    {
     "data": {
      "text/plain": [
       "[('XXI', 1.1),\n",
       " ('IXX', 1.1),\n",
       " ('YYI', 1.1),\n",
       " ('IYY', 1.1),\n",
       " ('ZZI', 1.0),\n",
       " ('IZZ', 1.0),\n",
       " ('XII', -1.0),\n",
       " ('IXI', -1.0),\n",
       " ('IIX', -1.0)]"
      ]
     },
     "execution_count": 7,
     "metadata": {},
     "output_type": "execute_result"
    }
   ],
   "source": [
    "\n",
    "ham_strings = qops.ps_text_full_set(tuples,types,N,Coeffs=coeffs)\n",
    "ham_strings\n"
   ]
  },
  {
   "cell_type": "markdown",
   "id": "8c956ac7",
   "metadata": {},
   "source": [
    "The resulting array of tuples can be used directly with `pyLIQTR`'s circuit generation code.\n",
    "<b><i>Generating a Hamiltonian Matrix</i></b>\n",
    "The Pauli string tuples can also be used to generate a matrix representation of the Hamiltonian, which is particularly useful for classical reference simulations.  This is accomplished by invoking  the `ham_from_pauli_tuples` routine:"
   ]
  },
  {
   "cell_type": "code",
   "execution_count": 8,
   "id": "ba79cf8a",
   "metadata": {},
   "outputs": [],
   "source": [
    "\n",
    "H = qops.ham_from_pauli_tuples(tuples,types,coeffs,N)\n"
   ]
  },
  {
   "cell_type": "markdown",
   "id": "328d2d3d",
   "metadata": {},
   "source": [
    "<h3>Classical Simulation</h3>"
   ]
  },
  {
   "cell_type": "markdown",
   "id": "3c4f8bed",
   "metadata": {},
   "source": [
    "\n",
    "Although our goal is to generate circuits for quantum simulation, it is helpful to have some classical reference values on hand as a sanity check.  To this end, we can use the Hamitonian matrix $H$ that was generated by `ham_from_pauli_tuples` to numerically integrate the Heisenberg model following a field quench.  We begin by setting some initial parameters:"
   ]
  },
  {
   "cell_type": "code",
   "execution_count": 9,
   "id": "1626f5fe",
   "metadata": {},
   "outputs": [],
   "source": [
    "\n",
    "\n",
    "dt            =  0.2                             # Integration timestep, Decrease this \n",
    "                                                 #   if you'd like a finer grain simulation\n",
    "tmax          =  2.0                             # Maximal timestep\n",
    "sclf          =  1                               # Scale factor for timestep sampling\n",
    "N_ts          =  int(np.ceil(tmax/dt))           # Total number of timesteps\n",
    "timestep_vec  =  np.arange(0,tmax+dt,sclf*dt)    # Define array of timesteps\n"
   ]
  },
  {
   "cell_type": "markdown",
   "id": "a94d836a",
   "metadata": {},
   "source": [
    "Next, we build up the initial wavefunction as a spin-up product state $\\mid\\psi_0\\rangle = \\bigotimes_{j=0}^{N-1} \\mid \\uparrow\\rangle$ so that:"
   ]
  },
  {
   "cell_type": "code",
   "execution_count": 10,
   "id": "b50cce48",
   "metadata": {},
   "outputs": [],
   "source": [
    "\n",
    "psi0 = qops.multikron([qops.sz_u]*N)             # Generate the wavefunction as a \n",
    "psi0 = psi0 / la.norm(psi0)                      # Kronecker product and normalize it.\n",
    "\n",
    "psi0_vec = qops.vectorize_cvec(psi0)             # Vectorize the initial wavefunction\n"
   ]
  },
  {
   "cell_type": "markdown",
   "id": "bddb841a",
   "metadata": {},
   "source": [
    "\n",
    "We can verify the local expectation value of $Z_j$ on each site of the lattice:\n"
   ]
  },
  {
   "cell_type": "code",
   "execution_count": 11,
   "id": "1875440c",
   "metadata": {},
   "outputs": [
    {
     "name": "stdout",
     "output_type": "stream",
     "text": [
      "[1. 1. 1.]\n"
     ]
    }
   ],
   "source": [
    "\n",
    "print(qops.measure_obs_site(psi0,qops.pz).real)\n"
   ]
  },
  {
   "cell_type": "markdown",
   "id": "76daeb73",
   "metadata": {},
   "source": [
    "The derivative $\\partial_t \\mid\\psi\\rangle = -\\imath H \\mid \\psi\\rangle$ is given by the function `prop_wfn` in the `quantum_ops` module.  This allows us to use ODEPACK methods to integrate the wavefunction: "
   ]
  },
  {
   "cell_type": "code",
   "execution_count": 12,
   "id": "687f2086",
   "metadata": {},
   "outputs": [],
   "source": [
    "\n",
    "traj_raw_wfn = spi.odeint(qops.prop_wfn,psi0_vec,timestep_vec,args=(H,),atol=1e-16)\n"
   ]
  },
  {
   "cell_type": "markdown",
   "id": "7eec2490",
   "metadata": {},
   "source": [
    "There is also a method `parse_wfn_traj` which can evaluate a single qubit observable on every qubit for every timestep in the trajectory (or, alternatively, an N-qubit observable for every timestep).  We evaluate this for the spin-up projector `przp` $= (1 + Z)/2$:"
   ]
  },
  {
   "cell_type": "code",
   "execution_count": 13,
   "id": "d550cafc",
   "metadata": {},
   "outputs": [],
   "source": [
    "\n",
    "traj_proc_wfn = qops.parse_wfn_traj(timestep_vec,traj_raw_wfn,qops.przp)\n",
    "\n",
    "obs_reference = traj_proc_wfn[:,1:(N+1)].real"
   ]
  },
  {
   "cell_type": "markdown",
   "id": "d92887bc",
   "metadata": {},
   "source": [
    "Finally, we plot the time evolution of our observable:"
   ]
  },
  {
   "cell_type": "code",
   "execution_count": 14,
   "id": "189fb41d",
   "metadata": {},
   "outputs": [
    {
     "data": {
      "image/png": "[encoded data removed]",
      "text/plain": [
       "<Figure size 640x480 with 2 Axes>"
      ]
     },
     "metadata": {},
     "output_type": "display_data"
    }
   ],
   "source": [
    "\n",
    "N_ticks = 2\n",
    "\n",
    "#aspect = 1/0.05\n",
    "aspect  = 1.0\n",
    "\n",
    "plt.imshow(np.transpose(obs_reference),\n",
    "           cmap='viridis', interpolation='nearest', aspect=aspect)\n",
    "plt.xlabel('Timestep',fontsize=14)\n",
    "plt.ylabel('Spin Site',fontsize=14)\n",
    "plt.title('Spin-Up Projection',fontsize=14)\n",
    "\n",
    "plt.yticks(range(0,N),range(1,N+1))\n",
    "plt.xticks(np.arange(0,N_ts+1,N_ts/N_ticks),labels=np.arange(0,tmax+dt,int(tmax/N_ticks)))\n",
    "\n",
    "plt.colorbar()\n",
    "\n",
    "plt.show()\n",
    "\n"
   ]
  },
  {
   "cell_type": "code",
   "execution_count": null,
   "id": "3a136aef",
   "metadata": {},
   "outputs": [],
   "source": []
  },
  {
   "cell_type": "code",
   "execution_count": null,
   "id": "021a6ec7",
   "metadata": {},
   "outputs": [],
   "source": []
  },
  {
   "cell_type": "code",
   "execution_count": null,
   "id": "6dd0352e",
   "metadata": {},
   "outputs": [],
   "source": []
  }
 ],
 "metadata": {
  "kernelspec": {
   "display_name": "Python 3 (ipykernel)",
   "language": "python",
   "name": "python3"
  },
  "language_info": {
   "codemirror_mode": {
    "name": "ipython",
    "version": 3
   },
   "file_extension": ".py",
   "mimetype": "text/x-python",
   "name": "python",
   "nbconvert_exporter": "python",
   "pygments_lexer": "ipython3",
   "version": "3.8.16"
  }
 },
 "nbformat": 4,
 "nbformat_minor": 5
}
