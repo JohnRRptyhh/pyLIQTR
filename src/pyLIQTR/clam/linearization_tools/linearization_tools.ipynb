{
 "cells": [
  {
   "cell_type": "markdown",
   "metadata": {},
   "source": [
    "<h1>Linearization Tools </h1>"
   ]
  },
  {
   "cell_type": "markdown",
   "metadata": {},
   "source": [
    "<font size=\"3\">\n",
    "\n",
    "<hr>\n",
    "DISTRIBUTION STATEMENT A. Approved for public release. Distribution is unlimited.\n",
    "\n",
    "This material is based upon work supported by the Under Secretary of Defense for\n",
    "Research and Engineering under Air Force Contract No. FA8702-15-D-0001. Any opinions,\n",
    "findings, conclusions or recommendations expressed in this material are those of the\n",
    "author(s) and do not necessarily reflect the views of the Under Secretary of Defense\n",
    "for Research and Engineering.\n",
    "\n",
    "© 2023 Massachusetts Institute of Technology.\n",
    "\n",
    "The software/firmware is provided to you on an As-Is basis\n",
    "\n",
    "Delivered to the U.S. Government with Unlimited Rights, as defined in DFARS Part\n",
    "252.227-7013 or 7014 (Feb 2014). Notwithstanding any copyright notice, U.S. Government\n",
    "rights in this work are defined by DFARS 252.227-7013 or DFARS 252.227-7014 as detailed\n",
    "above. Use of this work other than as specifically authorized by the U.S. Government\n",
    "may violate any copyrights that exist in this work.\n",
    "<hr><hr>\n",
    "</font>"
   ]
  },
  {
   "cell_type": "markdown",
   "metadata": {},
   "source": [
    "<h3><b><u>1. Introduction</u></b></h3>\n",
    "\n",
    "This notebook provides routines for solution of nonlinear ordinary differential equations using Carleman linearization.  More specifically, these methods linearize a collection of $\\ell$ nonlinear differential equations, which thsemselves comprise a  $K$-th order polynomial ODE:\n",
    "\n",
    "\\begin{align} \n",
    "d_t (u) & = \\sum_{k=0}^K F_k(u^{\\otimes k})\\\\\n",
    "&= F_0(t) + F_1(u) + F_2(u^{\\otimes 2}) + \\dots + F_{K}(u^{\\otimes K}) \n",
    "\\end{align}\n",
    "\n",
    "Here we use  $u = [u_1(t), u_2(t), \\dots, u_\\ell(t)]^T$ to denote a vector of parametric functions $u:D \\longrightarrow \\mathbb{R}$ that are $r$-fold differentiable (e.g., of the class $C^r$). These equations are defined on a domain $D \\subset \\mathbb{R}$ that is large enough to capture the dynamics of interest.  We  also consider an inhomogeneous term $F_0(t) = [f_1(t), f_2(t), \\dots, f_\\ell(t)]^T$ which may contain constants or (at least) $C^1$ parametric function.   The delivered linear system can be integrated using any conventional method.  We provide a forward Euler scheme for reference, since it is most relevant for applications using quantum ODE/PDE solvers.\n",
    "\n",
    "OUr discussion uses conventional multilinear algebra to simplify notation. Unless otherwise specified, $F_k$ is used to denote $1$-contravariant, $k$-covariant  tensors $F_k \\in V \\otimes (V^*)^{\\otimes k}$, which define a linear transform $F_k: V^{\\otimes k} \\longrightarrow V$ of $u^{\\otimes k}$ by the coefficient set for the ODE.  Here we write $V$ and $V^*$ for a vector space and its dual (respectively), use $u^{\\otimes k} \\in V^{\\otimes k}$ to denote the $k$--fold tensor product, and write $\\mathbf{1}:V\\longrightarrow V$ for the identity tensor when applicable. "
   ]
  },
  {
   "cell_type": "markdown",
   "metadata": {},
   "source": [
    "<h4><u>Carleman Procedure</u></h4>\n",
    "\n",
    "<b>Introduction: Quadratic Case</b>\n",
    "\n",
    "\n",
    " We will use the quadratic variant ($K = 2$) of Eq.~\\ref{eq:tensor_system_intro} as both an example and a means to solidify our conventions.  This case is particularly notable, as any nonlinear polynomial system may be reduced to a quadratic counterpart (as we demonstrate later). For pedagogical simplicity, we will deviate from our $F_k$ notation and write $A_1 = F_1$ for the coefficients of $u$ and $B_1 = F_2$ for the coefficients of $u^{\\otimes 2} = u \\otimes u$.  We may then write,\n",
    "\n",
    "\n",
    "\\begin{equation} \n",
    "\\frac{du}{dt} = A_1(u) + B_1(u\\otimes u) + \\mathbf{1} \\cdot F_0(t).\n",
    "\\end{equation}\n",
    "\n",
    "\n",
    " We will later adopt the notation $C_1$ for the inhomogeneous term. Following this arrangement, the coefficient sets $A_1$ and $B_1$ act through first order (matrix multiplication) and second--order tensor contraction, respectively:\n",
    "\n",
    "\\begin{align}\n",
    "(A_1(u))_i &= \\sum_j (A_1)_{ij} u_j, \\\\\n",
    "(B_1(u \\otimes u))_i &= \\sum_{jk} (B_1)_{ijk} u_j u_k.\n",
    "\\end{align}\n",
    "\n",
    "\n",
    "The nonlinearity in Eq. , comes from the $B_1(u\\otimes u)$ term.  Carleman embedding  linearizes this contribution by promoting  individual components of the tensor $u_{i,j} = u_i u_j = (u\\otimes u)_{ij} $  to auxiliary variables with their own ODE system.  We can construct these equations  using the differential operator $d_t = d/dt$, which acts multilinearly over the tensor product,\n",
    "\n",
    " \n",
    "\\begin{equation}\n",
    "d_t ( u^{\\otimes 2})  = d_t(u\\otimes u) = u\\otimes d_t(u) + d_t(u)\\otimes u,\n",
    "\\end{equation} \n",
    " \n",
    "and through substitution from Eq., \n",
    " \n",
    "\\begin{split}\n",
    "d_t(u) &= \\big[ A \\otimes I + I \\otimes A\\big](u^{\\otimes 2}) + \\big[ B \\otimes I + I \\otimes B\\big] (u^{\\otimes 3}) \\, + \\, \\big[(\\mathbf{1} \\cdot f_0) \\otimes I + I \\otimes (\\mathbf{1} \\cdot f_0)\\big] (u)  \\\\\n",
    "&=  A_2(u^{\\otimes 2}) + B_2(u^{\\otimes 3}) + C_2(u).\n",
    "\\end{split}\n",
    "\n",
    "This expression can be combined with Eq. to give a matrix valued relation,\n",
    "\n",
    "\\begin{equation} \n",
    "\\frac{d}{dt}\\begin{pmatrix}u\\\\u^{\\otimes 2}\\end{pmatrix} = \\left[ \\begin{pmatrix}A_1 & B_1 \\\\ C_2 & A_2 \\end{pmatrix} + \\begin{pmatrix}C_1\\\\0 \\end{pmatrix} \\right]\\begin{pmatrix}u\\\\u^{\\otimes 2}\\end{pmatrix} + B_2(u^{\\otimes 3}).\n",
    "\\end{equation}\n"
   ]
  },
  {
   "cell_type": "markdown",
   "metadata": {},
   "source": [
    "We see that the nonlinearity has shifted to the $u^{\\otimes 3}$ term.  While overall system remains nonlinear, this is now implicit for the equation of motion in $u^{\\otimes 2}$.  The nonlinear contributions can be pushed to  yet order by repeating the procedure and introducing new variables $u_{i,j,k} = (u^{\\otimes 3})_{ijk}$ so that:\n",
    "\n",
    "\n",
    "\\begin{equation}\n",
    "\\begin{split}\n",
    "d_t ( u^{\\otimes 3})  &=  d_t(u) \\otimes u^{\\otimes 2} + u \\otimes d_t(u) \\otimes u + u^{\\otimes 2} \\otimes d_t(u) \\\\ \n",
    "& =  A_3(u^{\\otimes 3}) + B_3(u^{\\otimes 4}) + C_3 \\, u^{\\otimes 2}\n",
    "\\end{split}\n",
    "\\end{equation}\n",
    "\n",
    "where we have defined the coefficient tensors in an analogous manner:\n",
    "\n",
    "\n",
    "\\begin{align}\n",
    "A_3 &=   A_1 \\otimes I^{\\otimes 2} + I \\otimes A_1 \\otimes I + I^{\\otimes 2} \\otimes A_1, \\\\\n",
    "B_3 &=   B_1 \\otimes I^{\\otimes 2} + I \\otimes B_1 \\otimes I + I^{\\otimes 2} \\otimes B_1, \\\\ \n",
    "C_3 &=   C_1 \\otimes I^{\\otimes 2} + I \\otimes C_1 \\otimes I + I^{\\otimes 2} \\otimes C_1. \n",
    "\\end{align}\n",
    "\n",
    "If we again write this as a matrix system (following Eq.~\\ref{eq:matrix_system_order_2}), we see an emergent  tridiagonal structure,\n",
    "\n",
    "\n",
    "\\begin{equation}\n",
    "\\frac{d}{dt}\\begin{pmatrix}u\\\\u^{\\otimes 2}\\\\ u^{\\otimes 3}\\end{pmatrix} = \\left[ \\underbrace{\\begin{pmatrix}A_1 & B_1 & 0 \\\\ C_2 & A_2 & B_2  \\\\\n",
    "0 & C_3 & A_3 \\end{pmatrix}}_{\\text{Tridiagonal}} + \\begin{pmatrix}C_1\\\\0\\\\0 \\end{pmatrix} \\right]\\begin{pmatrix}u\\\\u^{\\otimes 2}\\\\ u^{\\otimes 3} \\end{pmatrix} + B_3(u^{\\otimes 4}).\n",
    "\\end{equation}\n",
    "\n",
    "\n"
   ]
  },
  {
   "cell_type": "markdown",
   "metadata": {},
   "source": [
    "<b>General Linerization Procedures</b>\n",
    "\n",
    "\n",
    "We can now address linearization for polynomial systems of arbitrary order.   Our starting point is now the $K$--th order system:\n",
    "\n",
    "\\begin{align} \n",
    "d_t (u) & = \\sum_{k=0}^K F_k(u^{\\otimes k})\\\\\n",
    "&= F_0(t) + F_1(u) + F_2(u^{\\otimes 2}) + \\dots + F_{K}(u^{\\otimes K}).\n",
    "\\end{align}\n",
    "\n",
    "The general linearization procedure follows from the quadratic case, where we inductively shifted nonlinearity in the $n$--th order equations $y_n = u^{\\otimes n}$ to their $(n+1)$--th order successors.  The higher--order differential system  follows from the parametric derivative $d_t (y_n)$, which may be expressed by using linearity of the differential operator over the tensor product:\n",
    "\n",
    "\n",
    "\\begin{split}\n",
    "d_t(y_n)  & = \\sum_{\\nu=0}^{n-1} u^{\\otimes \\nu} \\otimes d_t (u) \\otimes u^{\\otimes n-\\nu-1} \\\\\n",
    "&= d_t(u) \\otimes u^{\\otimes (n-1)} + u \\otimes d_t(u) \\otimes u^{\\otimes (n-2)} + \\dots + u^{\\otimes (n-1)} \\otimes d_t(u).\n",
    "\\end{split}\n",
    "\n",
    "We can likewise write the $k$--th order differential equations for $y_n$ in terms of a general and  compact notation,\n",
    "\n",
    "\\begin{split}\n",
    "A_{n+k-1}^n & = \\sum_{\\nu=0}^{n-1} I^{\\otimes \\nu} \\otimes F_k \\otimes I^{\\otimes (n-\\nu-1)} \\\\\n",
    "&= F_k \\otimes I^{\\otimes (n-1)} + I \\otimes F_k \\otimes I^{\\otimes (n-2)} + \\dots + I^{\\otimes (n-1)} \\otimes F_k.\n",
    "\\end{split}\n",
    "\n",
    "Putting these components together, we substitute the  system from  Eq.~\\ref{eq:tensor_system_general} into each term in our expression for $d_t (y_n)$ to give:\n",
    "\n",
    "\\begin{split} \n",
    "d_t(y_n) & = \\sum_{\\nu=0}^{n-1} u^{\\otimes \\nu} \\otimes \\left[ \\sum_{k=0}^K F_k(u^{\\otimes k}) \\right] \\otimes u^{\\otimes (n-\\nu-1)} \\\\\n",
    "& = \\sum_{k=0}^K \\sum_{\\nu=0}^{n-1} u^{\\otimes \\nu} \\otimes F_k(u^{\\otimes k}) \\otimes u^{\\otimes (n-\\nu-1)} \\\\\n",
    "& = \\sum_{k=0}^K \\sum_{\\nu=0}^{n-1} \\left[I^{\\otimes \\nu} \\otimes F_k \\otimes I^{\\otimes (n-\\nu-1)} \\right] \\left[ u^{\\otimes \\nu} \\otimes u^{\\otimes k} \\otimes u^{\\otimes (n-\\nu-1)} \\right] \\\\\n",
    "& = \\sum_{k=0}^K \\sum_{\\nu=0}^{n-1} \\left[I^{\\otimes \\nu} \\otimes F_k \\otimes I^{\\otimes (n-\\nu-1)} \\right] u^{\\otimes (n+k-1)} \\\\\n",
    "& = \\sum_{k=0}^K A_{n+k-1}^n u^{\\otimes (n+k-1)}\n",
    "\\end{split}\n",
    "\n",
    " Here we  changed the order of summation in the second line and noted that each factor in the tensor product $u^{\\otimes k}$ is identical in order to derive the third lien.  In doing so, we define an infinite hierarchy of differential equations, where nonlinearity from the $(n+1)$--th order term in the  system for $y_n$ is lifted by the expanded parametric system in $y_{n+1}$.  This can be summarized by a set of matrix equations,\n",
    "\n",
    " \\begin{equation}\n",
    "d_t(\\hat{y}) = \\mathcal{A} \\cdot \\hat{y} + \\mathcal{A}_0,\n",
    "\\end{equation}\n",
    "\n",
    "where we have use the notation $\\hat{y} = [y_1, y_2, y_3, \\dots]^T$ for the infinite system.  The quantity $\\hat{y}$ corresponds to an infinite--dimensional column vector if we represent the tensor product $u^{\\otimes k}$ as a Kronecker product of $u = [u_1, u_2, \\dots, u_\\ell]^T$).  Similarly, the coefficients $\\mathcal{A}$ may be treated as a  $(K+1)$--diagonal matrix, with comparable notation  for the inhomogeneous term $\\mathcal{A}_0$:\n",
    "\n",
    "\\begin{align}\n",
    "\\mathcal{A} = \\begin{pmatrix}\n",
    "   A^1_1  &  A^1_2  &  A^1_3  & \\dots &  A^1_K  &      0      &      0      &  \\dots \\\\\n",
    "   A^2_1  &  A^2_2  &  A^2_3  & \\dots &  A^2_K  &  A^2_{K+1}  &      0      &  \\dots \\\\\n",
    "     0    &  A^3_2  &  A^3_3  & \\dots &  A^3_K  &  A^3_{K+1}  &  A^3_{K+2}  &  \\dots \\\\\n",
    "   \\vdots &  \\vdots &  \\vdots &       &  \\vdots &  \\vdots     &   \\vdots    &        \n",
    "\\end{pmatrix}, & & \\mathcal{A}_0 = \\begin{pmatrix} A_0^1 \\\\ 0 \\\\ 0 \\\\ \\vdots \\end{pmatrix}.\n",
    "\\end{align}\n",
    "\n",
    "\n"
   ]
  },
  {
   "cell_type": "markdown",
   "metadata": {},
   "source": [
    "In a practical calculation, we truncate this system after $y_N$ and discard its $(N+1)$-th order nonlinearity. \n"
   ]
  },
  {
   "cell_type": "markdown",
   "metadata": {},
   "source": [
    "<h4><u>Reduction to a Quadratic System</u></h4>"
   ]
  },
  {
   "cell_type": "markdown",
   "metadata": {},
   "source": [
    "The framework developed for linearization also allows us to write $K$--th order ODEs as a quadratic system of equations.  We again consider a system,\n",
    "\n",
    "\\begin{equation} \n",
    " d_t (u) = F_0(t) + F_1(u) + F_2(u^{\\otimes 2}) + \\dots + F_{K}(u^{\\otimes K}),\n",
    "\\end{equation}\n",
    "\n",
    " and introduce the notation $ x_n = u^{n} $ to distinguish our procedure here from the full linearization scheme.  We previously showed that,\n",
    "\n",
    "\\begin{equation}\n",
    "d_t(x_n) = \\sum_{k=0}^K A_{n+k-1}^n (x_{n+k-1}),\n",
    "\\end{equation}\n",
    "\n",
    "which is just a restatement of Eq.~\\ref{eq:eq:tensor_system_general_linearderiv_n} in terms of the functions $x_n(t)$.  To facilitate this reduction, we now linearize the system in Eq.  to order $(K-1)$ while explicitly tracking the leading factors of $x_{K-1}$.  Doing so (and setting aside the $A^{1}_0$ term for now) we see that,\n",
    "\n",
    "\\begin{split}\n",
    "d_t(x_1)  =& A^{1}_1\\, (x_1) + A^{1}_2 \\,(x_2) + \\dots + A^1_{K-1}\\, (x_{K-1}) + A^1_K \\, (x_1 \\otimes x_{K-1}) \\\\\n",
    "d_t(x_2)  =& A^{2}_1\\, (x_1) + A^{2}_2 \\,(x_2) + \\dots + A^2_{K-1}\\, (x_{K-1}) + A^2_K \\, (x_1 \\otimes x_{K-1}) + A^2_{K+1} \\, (x_2 \\otimes x_{K-1}) \\\\\n",
    " &  \\hspace{150pt} \\vdots \\\\\n",
    "d_t(x_{K-1}) =& A^{K-1}_{K-2}\\, (x_{K-2}) + A^{K-1}_{K-1} \\, (x_{K-1}) + \\dots + A^{K-1}_{K-1}\\, (x_{K-1}) + A^{K-1}_K \\, (x_1 \\otimes x_{K-1})  + \\dots  \\\\\n",
    "& + A^{K-1}_{2(K-1)} \\, (x_{K-1} \\otimes x_{K-1} ),\n",
    "\\end{split}\n",
    "\n",
    " which reveals one set of terms with a single factor of $\\hat{x} = [x_1, x_2, \\dots, x_{K-1}]$ and set containing  $\\hat{x}\\otimes\\hat{x}$.  This suggests a new quadratic differential system,\n",
    "\n",
    "\\begin{equation}\n",
    "d_t(\\hat{x}) = \\tilde{F}_1 (\\hat{x}) + \\tilde{F}_2 (\\hat{x}\\otimes \\hat{x}) + \\tilde{F}_0(t),\n",
    "\\end{equation}\n",
    "\n",
    "\\noindent provided that we define,\n",
    "\n",
    "\\begin{align}\n",
    "\\tilde{F}_1 = \\begin{pmatrix}\n",
    "   A^1_1  &  A^1_2  &  A^1_3  &  A^1_4 & \\dots &  A^1_{K-1}   \\\\\n",
    "   A^2_1  &  A^2_2  &  A^2_3  &  A^2_4 & \\dots &  A^2_{K-1}   \\\\\n",
    "     0    &  A^3_2  &  A^3_3  &  A^3_4 & \\dots &  A^3_{K-1}   \\\\\n",
    "     0    &    0    &  A^4_3  &  A^4_4 & \\dots &  A^4_{K-1}   \\\\\n",
    "     0    &    0    &    0    &  \\ddots& \\ddots &  \\vdots     \\\\\n",
    "     0    &    0    &    0    &  \\dots & A^{K-1}_{K-2}  &   A^{K-1}_{K-2}   \\\\        \n",
    "\\end{pmatrix}, & & \\tilde{F}_0 = \\begin{pmatrix} A_0^1 \\\\ 0 \\\\ 0 \\\\ \\vdots \\\\ 0\\\\  0\\end{pmatrix}\n",
    "\\end{align}\n",
    "\n"
   ]
  },
  {
   "cell_type": "markdown",
   "metadata": {},
   "source": [
    "and,\n",
    "\n",
    "\\begin{align}\n",
    "\\tilde{F}_2 = \\left(\\begin{array}{ccccccccccccc} \n",
    "   0   & \\dots &    0   & A^1_K     & 0      & \\dots &    0   & 0             &    0   & \\dots & 0  & 0 \\\\\n",
    "   0   & \\dots &    0   & A^2_K     & 0      & \\dots &    0   & A^2_{K+1}     &    0   & \\dots & 0  & 0 \\\\\n",
    "\\vdots &       & \\vdots & \\vdots    & \\vdots &       & \\vdots & \\vdots        & \\vdots &       & \\vdots & \\vdots \\\\\n",
    "   0   & \\dots &    0   & A^{K-1}_K & 0      & \\dots&    0   & A^{K-1}_{K+1} &    0   & \\dots  & 0 & A^{K-1}_{2(K - 1)}\\\\\n",
    "\\end{array}\\right).\n",
    "\\end{align}"
   ]
  },
  {
   "cell_type": "markdown",
   "metadata": {},
   "source": [
    "<hr>\n",
    "<h3><u><b>2. Numerical Examples</b></u></h3>\n"
   ]
  },
  {
   "cell_type": "code",
   "execution_count": 2,
   "metadata": {},
   "outputs": [],
   "source": [
    "import  numpy                as  np\n",
    "import  scipy.sparse         as  sps\n",
    "import  scipy.integrate      as  spi\n",
    "import  matplotlib.pyplot    as  plt\n",
    "\n",
    "import  multilinear_algebra  as  mla\n",
    "\n",
    "import  linearization_tools  as  ltools\n",
    "import  vlasov_spectral      as  vs\n",
    "import  burgers_nonlinear    as  nlin\n",
    "\n",
    "def pprint_matrix(mat):\n",
    "    \n",
    "    for row in mat:\n",
    "        for item in row:\n",
    "            print(f\"{item:.2}\",\"\\t\",end=\"\")\n",
    "        print()\n"
   ]
  },
  {
   "cell_type": "markdown",
   "metadata": {},
   "source": [
    "<h4><u>Example: Input Specification</u></h4>"
   ]
  },
  {
   "cell_type": "markdown",
   "metadata": {},
   "source": [
    "<b>Parameter Domain</b>"
   ]
  },
  {
   "cell_type": "markdown",
   "metadata": {},
   "source": [
    "Our ODE system is specified in terms of a single parameter $t \\in D = [0,T]$.  We discretize this domain into  $N_\\text{step} = \\lceil T / \\delta t\\rceil +1 $ evenly spaced points $t_n = n\\cdot \\delta t$ with $n \\in \\{0,\\dots,N-1\\}$. The step $\\delta t$ defines the resolution of our discretization."
   ]
  },
  {
   "cell_type": "code",
   "execution_count": 3,
   "metadata": {},
   "outputs": [],
   "source": [
    "\n",
    "dt  =  0.001                        #  Timestep\n",
    "T   =  40.0                         #  Maximal time\n",
    "\n",
    "N_step = int(np.ceil(T/dt)) + 1     #  Number of timesteps\n",
    "\n",
    "b   = 0.0                       \n",
    "\n",
    "xpts  = np.linspace(0.0,T,num=N_step)\n"
   ]
  },
  {
   "cell_type": "markdown",
   "metadata": {},
   "source": [
    "<b>Set up ODE System</b>"
   ]
  },
  {
   "cell_type": "markdown",
   "metadata": {},
   "source": [
    "We demonstrate our input specification for a single-parameter first-order ODE system:\n",
    "\n",
    "\\begin{align}\n",
    "\\dot{u}_1(t) &= u_1 + u_1^2 + u_1 u_2 - 2 u_1^3\\\\\n",
    "\\dot{u}_2(t) &= u_1 - 2 u_2 - 3 u_1 u_2 - 2 u_2^2 + 3 u_2^3\n",
    "\\end{align}\n",
    "\n",
    "where $u_i :D \\longrightarrow \\mathbb{R}$ are the constituent functions and $\\dot{u} = d_t u$ denotes the parameteric derivative.  This system is passed to  our linearization routines according to a more compact notation:\n",
    "\n",
    "\\begin{align} \n",
    "d_t (u) = F_0(t) + F_1(u) + F_2(u^{\\otimes 2}) + F_3(u^{\\otimes 3}) \n",
    "\\end{align}\n",
    "\n",
    "where  $u = [u_1(t), u_2(t)]^T$ is a vector and $u^{\\otimes n}$ denotes its $n$-fold tensor product (e.g., $u^{\\otimes 2} = [u_1^2, u_1 u_2, u_2 u_1, u_2^2]$).  The $F_i$ are coefficient tensors which have been reshaped into $2 \\times 2^n$ matrices.  Using the system above as an example:\n",
    "\n",
    "\\begin{align}\n",
    "F_1 & = \\begin{bmatrix} 1 & 0 \\\\ 1 & -2\\end{bmatrix} \\\\\n",
    "u & =  \\begin{bmatrix}u_1 & u_2\\end{bmatrix}^T \n",
    "\\end{align} \n"
   ]
  },
  {
   "cell_type": "markdown",
   "metadata": {},
   "source": [
    "\n",
    "\\begin{align}\n",
    "F_2 & = \\begin{bmatrix} 1 & 1 & 0 & 0 \\\\ 0 & 0 & -3 & -2\\end{bmatrix} \\\\\n",
    "u^{\\otimes 2} & =  \\begin{bmatrix}u_1^2 & u_1 u_2 & u_2 u_1 & u_2^2 \\end{bmatrix}^T \\\\\n",
    "\\end{align}\n"
   ]
  },
  {
   "cell_type": "markdown",
   "metadata": {},
   "source": [
    "\\begin{align}\n",
    "F_3 & = \\begin{bmatrix} -2 & 0 & 0 & 0 & 0 & 0 & 0 & 0 \\\\  0 & 0 & 0 & 0 & 0 & 0 & 0 & 3\\end{bmatrix} \\\\\n",
    "u_3 & =  \\begin{bmatrix}u_1^3 & u_1^2 u_2 & u_2 u_1^2 & u_2^2 u_1 & u_1^2 u_2 & u_1 u_2^2 & u_2^2 u_1 & u_2^3 \\end{bmatrix}^T \n",
    "\\end{align}"
   ]
  },
  {
   "cell_type": "markdown",
   "metadata": {},
   "source": [
    "Of course, this means that the $F_i$ are not unique $-$ there are multiple ways to pass coefficients for terms that are repeated in $u^{\\otimes n}$.  Splitting these coefficients across multiple entries will, however, reduce sparsity of the system."
   ]
  },
  {
   "cell_type": "code",
   "execution_count": 4,
   "metadata": {},
   "outputs": [],
   "source": [
    "F_1 = np.array([[ 1.0,  0.0 ], \n",
    "                [ 1.0,  -0.2 ]]);\n",
    "\n",
    "F_2 = np.array([[ 1.0,  1.0,  0.0,  0.0  ],\n",
    "                [ 0.0,  0.5, -3.0, -2.0  ]]);\n",
    "\n",
    "F_3 = np.array([[ -2.0, 0.0, 0.0, 0.0, 0.0, 0.0, 0.0, 0.0 ],\n",
    "                [  0.0, 0.0, 0.0, 0.0, 0.0, 0.0, 0.0, 3.0 ]]);\n",
    "\n",
    "coeff_set  =  [F_1, F_2, F_3]\n",
    "\n"
   ]
  },
  {
   "cell_type": "markdown",
   "metadata": {},
   "source": [
    "<hr>\n",
    "<h4><u>Example: Van der Pol Oscillator</u></h4>"
   ]
  },
  {
   "cell_type": "markdown",
   "metadata": {},
   "source": [
    "The canonical, two-dimensional form of the Van der Pol oscillator is:\n",
    "\n",
    "\\begin{align}\n",
    "\\dot{u}_1 & = \\mu \\Big(u_1 - \\frac{u_1^3}{3} \\Big) + u_2 \\\\\n",
    "\\dot{u}_2 & = -u_1\n",
    "\\end{align}\n",
    "\n",
    "where the damping parameter $\\mu \\in \\mathbb{R}$ controls the degree of nonlinearity.  A conventional harmonic oscillator is recovered when $\\mu = 0$, while $\\mu > 0$ results in nonconservative systems that approach a global limit cycle.  This the latter occurs with distinctive and paramter-specific 'relaxation oscillations.' The Van der Pol oscillator is somewhat ubiquitous, appearing in systems that span from electrical circuits to electrical oscillations in neurons.\n",
    "\n",
    "We define this system as follows:"
   ]
  },
  {
   "cell_type": "code",
   "execution_count": 5,
   "metadata": {},
   "outputs": [],
   "source": [
    "mu   =  0.1                         # nonlinear damping parameter\n",
    "u_0  =  np.array([1.0,0.0])         # initial conditions\n",
    "\n",
    "F_1 = np.array([[ mu,  1.0 ], \n",
    "                [ -1.0,  0.0 ]]);\n",
    "\n",
    "F_3 = np.array([[ -mu/3, 0.0, 0.0, 0.0, 0.0, 0.0, 0.0,  0.0 ],\n",
    "                [  0.0, 0.0, 0.0, 0.0, 0.0, 0.0, 0.0,  0.0 ]]);\n",
    "\n",
    "coeff_set  =  [F_1, F_3]\n"
   ]
  },
  {
   "cell_type": "markdown",
   "metadata": {},
   "source": [
    "We now perform linearization and compare with a classical solution.  Linearization is handled by the `Linearizer` class, which is initialized as follows (using `sparse=True` to specify sparse matrix routines):"
   ]
  },
  {
   "cell_type": "code",
   "execution_count": 6,
   "metadata": {},
   "outputs": [],
   "source": [
    "N_lin  =  4             # linearization order\n",
    "\n",
    "LL = ltools.Linearizer(coeff_set,sparse=True)"
   ]
  },
  {
   "cell_type": "markdown",
   "metadata": {},
   "source": [
    "Run the Carleman linearization procedure to order `N_lin` using the `carleman()` method.  Also set up the epanded initial value problem using `ivp()`:"
   ]
  },
  {
   "cell_type": "code",
   "execution_count": 7,
   "metadata": {},
   "outputs": [],
   "source": [
    "LL.carleman(N_lin)          # Build the linearization\n",
    "LL.ivp(u_0)                 # Build the IVP data"
   ]
  },
  {
   "cell_type": "markdown",
   "metadata": {},
   "source": [
    "Obtain items of interest from the class:"
   ]
  },
  {
   "cell_type": "code",
   "execution_count": 8,
   "metadata": {},
   "outputs": [],
   "source": [
    "\n",
    "A    =  LL.op()              # grab the linear evolution matrix\n",
    "A_s  =  LL.op_s()            # grab the linear evolution matrix in a sparse representation\n",
    "iv   =  LL.iv()              # grab the initial value vector"
   ]
  },
  {
   "cell_type": "markdown",
   "metadata": {},
   "source": [
    "We can query properties of the sparse system:"
   ]
  },
  {
   "cell_type": "code",
   "execution_count": 9,
   "metadata": {},
   "outputs": [
    {
     "data": {
      "text/plain": [
       "<126x126 sparse matrix of type '<class 'numpy.float64'>'\n",
       "\twith 805 stored elements in COOrdinate format>"
      ]
     },
     "execution_count": 9,
     "metadata": {},
     "output_type": "execute_result"
    }
   ],
   "source": [
    "A_s"
   ]
  },
  {
   "cell_type": "markdown",
   "metadata": {},
   "source": [
    "Or get a copy of the sparse system as a list.  Here nonzero elements of the linearized system are given by as `((row,col), value)`:"
   ]
  },
  {
   "cell_type": "code",
   "execution_count": 10,
   "metadata": {},
   "outputs": [
    {
     "data": {
      "text/plain": [
       "[((0, 1), 1.0),\n",
       " ((1, 0), -1.0),\n",
       " ((1, 1), 0.0),\n",
       " ((0, 6), -0.03333333333333333),\n",
       " ((2, 2), 0.2),\n",
       " ((2, 3), 1.0),\n",
       " ((3, 2), -1.0),\n",
       " ((3, 3), 0.1),\n",
       " ((2, 4), 1.0)]"
      ]
     },
     "execution_count": 10,
     "metadata": {},
     "output_type": "execute_result"
    }
   ],
   "source": [
    "A_s_list = LL.op_s_data()\n",
    "\n",
    "A_s_list[1:10]"
   ]
  },
  {
   "cell_type": "markdown",
   "metadata": {},
   "source": [
    "We can now integrate the nonlinear system using standard routines like LSODA:"
   ]
  },
  {
   "cell_type": "code",
   "execution_count": 11,
   "metadata": {},
   "outputs": [],
   "source": [
    "traj_raw_cm = spi.odeint(ltools.prop_nonlinear,u_0,xpts,args=(coeff_set,),atol=1.0e-16)"
   ]
  },
  {
   "cell_type": "markdown",
   "metadata": {},
   "source": [
    "And compare with a foward Euler integration of the linearized system:"
   ]
  },
  {
   "cell_type": "code",
   "execution_count": 12,
   "metadata": {},
   "outputs": [],
   "source": [
    "u_sol = ltools.euler_int_fw(A,iv,dt,T)"
   ]
  },
  {
   "cell_type": "markdown",
   "metadata": {},
   "source": [
    "Total number of linear ODEs from Carleman procedure:"
   ]
  },
  {
   "cell_type": "code",
   "execution_count": 13,
   "metadata": {},
   "outputs": [
    {
     "data": {
      "text/plain": [
       "126"
      ]
     },
     "execution_count": 13,
     "metadata": {},
     "output_type": "execute_result"
    }
   ],
   "source": [
    "iv.shape[-1]"
   ]
  },
  {
   "cell_type": "markdown",
   "metadata": {},
   "source": [
    "Plot the nonlinear and linaerized Carleman results side-by-side:"
   ]
  },
  {
   "cell_type": "code",
   "execution_count": 14,
   "metadata": {},
   "outputs": [
    {
     "data": {
      "text/plain": [
       "Text(0, 0.5, 'Oscillator Amplitude')"
      ]
     },
     "execution_count": 14,
     "metadata": {},
     "output_type": "execute_result"
    },
    {
     "data": {
      "image/png": "[encoded data removed]",
      "text/plain": [
       "<Figure size 640x480 with 1 Axes>"
      ]
     },
     "metadata": {},
     "output_type": "display_data"
    }
   ],
   "source": [
    "xpts  = np.linspace(0.0,T,num=N_step)\n",
    "timestep_vec = np.arange(0,T,dt)  \n",
    "\n",
    "plt.plot(xpts,traj_raw_cm[:,0])\n",
    "plt.plot(xpts,traj_raw_cm[:,1])\n",
    "\n",
    "plt.plot(timestep_vec,u_sol[0,:],\"--\")\n",
    "plt.plot(timestep_vec,u_sol[1,:],\"--\")\n",
    "\n",
    "plt.xlim([0.0,  20.0])\n",
    "plt.ylim([-4.0, 4.0])\n",
    "\n",
    "plt.legend(['$u_1$ Exact','$u_2$ Exact','$u_1$ Carleman','$u_2$ Carleman'])\n",
    "plt.xlabel('Time')\n",
    "plt.ylabel('Oscillator Amplitude')"
   ]
  },
  {
   "cell_type": "markdown",
   "metadata": {},
   "source": [
    "The linearization works pretty well for a time, at least until the nonlinearity leads to significant drift.  Increasing the order of linearization `N_lin` extends this regime at the expense of a much larger system.  Clearly this system isn't a good candidate for linearization $-$ it is much more taxing than the damped problems with better convergence characteristics."
   ]
  },
  {
   "cell_type": "markdown",
   "metadata": {},
   "source": [
    "<hr>\n",
    "<h4><u>Example: Lotka-Volterra System (\"Predator-Prey\" model)</u></h4>"
   ]
  },
  {
   "cell_type": "markdown",
   "metadata": {},
   "source": [
    "The Lotka-Volterra system is defined as:\n",
    "\n",
    "\\begin{align}\n",
    "\\dot{u}_1 &= \\alpha_1 u_1 - \\delta_1 \\, u_1 u_2 \\\\\n",
    "\\dot{u}_2 &= -\\alpha_2 u_2 + \\delta_2 \\, u_1 u_2 \n",
    "\\end{align}\n",
    "\n",
    "where $\\alpha_i, \\delta_i \\in \\mathbb{R}^+$. This model can be used to describe the population of two different species in competition (assuming, e.g., that they prey are not food-limited).  This model is more difficult to treat with Carleman linearization since the interesting paramter regimes are generally quite nonlinear."
   ]
  },
  {
   "cell_type": "markdown",
   "metadata": {},
   "source": [
    "We again set up the problem:"
   ]
  },
  {
   "cell_type": "code",
   "execution_count": 15,
   "metadata": {},
   "outputs": [],
   "source": [
    "c1  =  0.4;    c2  =  1.0;    \n",
    "d1  =  0.01;    d2  =  0.02;\n",
    "\n",
    "\n",
    "u_0  =  np.array([ 20, 10 ])         # initial conditions\n",
    "\n",
    "F_1 = np.array([[ c1,   0.0 ], \n",
    "                [ 0.0,  -c2 ]]);\n",
    "\n",
    "F_2 = np.array([[ 0.0,  -d1,  0.0,  0.0 ],\n",
    "                [ 0.0,  0.0,   d2,  0.0 ]]);\n",
    "\n",
    "coeff_set  =  [F_1, F_2]"
   ]
  },
  {
   "cell_type": "markdown",
   "metadata": {},
   "source": [
    "Compute an 'exact' result for the full nonlinear system:"
   ]
  },
  {
   "cell_type": "code",
   "execution_count": 16,
   "metadata": {},
   "outputs": [],
   "source": [
    "traj_raw_cm = spi.odeint(ltools.prop_nonlinear,u_0,xpts,args=(coeff_set,),atol=1.0e-16)"
   ]
  },
  {
   "cell_type": "markdown",
   "metadata": {},
   "source": [
    "Perform the linearization procedure:"
   ]
  },
  {
   "cell_type": "code",
   "execution_count": 17,
   "metadata": {},
   "outputs": [],
   "source": [
    "N_lin  =  8            # linearization order\n",
    "\n",
    "LL = ltools.Linearizer(coeff_set,sparse=True)\n",
    "\n",
    "LL.carleman(N_lin)          # Build the linearization\n",
    "LL.ivp(u_0)                 # Build the IVP data\n",
    "\n",
    "A   =  LL.op()              # grab the linear evolution matrix\n",
    "iv  =  LL.iv()              # grab the initial value vector\n"
   ]
  },
  {
   "cell_type": "markdown",
   "metadata": {},
   "source": [
    "And integrate the linearized system:"
   ]
  },
  {
   "cell_type": "code",
   "execution_count": 18,
   "metadata": {},
   "outputs": [],
   "source": [
    "u_sol = ltools.euler_int_fw(A,iv,dt,T)"
   ]
  },
  {
   "cell_type": "markdown",
   "metadata": {},
   "source": [
    "The linear system has this many distinct equations:"
   ]
  },
  {
   "cell_type": "code",
   "execution_count": 19,
   "metadata": {},
   "outputs": [
    {
     "data": {
      "text/plain": [
       "1022"
      ]
     },
     "execution_count": 19,
     "metadata": {},
     "output_type": "execute_result"
    }
   ],
   "source": [
    "iv.shape[-1]"
   ]
  },
  {
   "cell_type": "markdown",
   "metadata": {},
   "source": [
    "The Lotka-Volterra system has a more pronounced nonlinearity than the Van der Pol oscillator.Linearization fails even more dramatically:"
   ]
  },
  {
   "cell_type": "code",
   "execution_count": 24,
   "metadata": {},
   "outputs": [
    {
     "data": {
      "text/plain": [
       "Text(0, 0.5, 'Population ')"
      ]
     },
     "execution_count": 24,
     "metadata": {},
     "output_type": "execute_result"
    },
    {
     "data": {
      "image/png": "[encoded data removed]",
      "text/plain": [
       "<Figure size 640x480 with 1 Axes>"
      ]
     },
     "metadata": {},
     "output_type": "display_data"
    }
   ],
   "source": [
    "xpts  = np.linspace(0.0,T,num=N_step)\n",
    "timestep_vec = np.arange(0,T,dt)  \n",
    "\n",
    "plt.plot(xpts,traj_raw_cm[:,0])\n",
    "plt.plot(xpts,traj_raw_cm[:,1])\n",
    "\n",
    "plt.plot(timestep_vec,u_sol[0,:],\"--\")\n",
    "plt.plot(timestep_vec,u_sol[1,:],\"--\")\n",
    "\n",
    "plt.xlim([0.0,  10.0])\n",
    "plt.ylim([0.1, 200.0])\n",
    "\n",
    "plt.legend(['$u_1$ Exact','$u_2$ Exact','$u_1$ Carleman','$u_2$ Carleman'])\n",
    "plt.xlabel('Time')\n",
    "plt.ylabel('Population ')"
   ]
  },
  {
   "cell_type": "markdown",
   "metadata": {},
   "source": [
    "<hr>\n",
    "<h4><u>Viscous Burgers Equation</u></h4>"
   ]
  },
  {
   "cell_type": "markdown",
   "metadata": {},
   "source": [
    "The Navier-Stokes equation describes a fluid that is subject to both driving and damping forces:\n",
    "\n",
    "\\begin{equation}\n",
    "\\partial_t \\mathbf{u} + (\\mathbf{u} \\cdot \\nabla)\\mathbf{u} + \\beta \\mathbf{u} = \\nu \\nabla^2 \\mathbf{u} + \\mathbf{F}\n",
    "\\end{equation}\n",
    "\n",
    "A simpler limit is the viscous Burger's equation, which takes a simple form for 1d fluids:\n",
    "\n",
    "\\begin{equation}\n",
    "\\partial_t u + u \\,\\partial_x u  = \\nu \\partial_x^2 u + F\n",
    "\\end{equation}\n",
    "\n",
    "This reduces to a set of coupled ODEs when we discretize the spatial domain and use a finite difference scheme.\n",
    "\n"
   ]
  },
  {
   "cell_type": "code",
   "execution_count": 25,
   "metadata": {},
   "outputs": [],
   "source": [
    "N      =   16       # Number of spatial points\n",
    "L      =  1.0       # Length of spatial domain\n",
    "gamma  =  0.0       # Damping parameter\n",
    "\n",
    "Reynolds   =  20                   # Target Reyolds number for flow\n",
    "vmax       =  1.0/np.sqrt(N-1)     # Maximum velocity w/ drive or initial condition\n",
    "\n",
    "nu         =  vmax*L/Reynolds      # Dynamic viscosity\n",
    "\n",
    "nk = 1.0                           # \n",
    "\n",
    "coeff_set = nlin.vbe_system(L,N,nu,gamma=gamma)"
   ]
  },
  {
   "cell_type": "code",
   "execution_count": 26,
   "metadata": {},
   "outputs": [],
   "source": [
    "N_lin  =  4            # linearization order\n",
    "\n",
    "LL = ltools.Linearizer(coeff_set,sparse=True)\n",
    "\n",
    "LL.carleman(N_lin)          # Build the linearization\n",
    "#LL.ivp(u_0)                 # Build the IVP data\n",
    "\n",
    "A   =  LL.op()              # grab the linear evolution matrix\n",
    "#iv  =  LL.iv()              # grab the initial value vector\n"
   ]
  },
  {
   "cell_type": "markdown",
   "metadata": {},
   "source": [
    "Properties of the sparse system:"
   ]
  },
  {
   "cell_type": "code",
   "execution_count": 27,
   "metadata": {},
   "outputs": [
    {
     "data": {
      "text/plain": [
       "<1118480x1118480 sparse matrix of type '<class 'numpy.float64'>'\n",
       "\twith 11255818 stored elements in COOrdinate format>"
      ]
     },
     "execution_count": 27,
     "metadata": {},
     "output_type": "execute_result"
    }
   ],
   "source": [
    "A_sparse = LL.op_s()\n",
    "A_sparse"
   ]
  },
  {
   "cell_type": "markdown",
   "metadata": {},
   "source": [
    "<hr>\n",
    "<h4><u>Vlasov Equation: Fourier-Hermite Representation</u></h4>"
   ]
  },
  {
   "cell_type": "markdown",
   "metadata": {},
   "source": [
    "This problem follows from a dual-spectral representation of the Vlasov-Poisson equation, which has a long legacy:\n",
    "\n",
    "<ol>\n",
    "<li>F. C. Grant, M. R. Feix, \"Fourier-Hermite Solutions of the Vlasov Equations in a Linearized Limit\"  Phys. Fluids., <b>10</b>, 696 (1967).</li>\n",
    "<li>J. T. Parker and P. J. Dellar, \"Fourier-Hermite spectral representation for the Vlasov-Poisson system in the weakly collisional limit\"  J. Plasma Phys., <b>81</b>, 1 (2015).</li>\n",
    "<li>J. K. Kormann and A. Yurova, \"A generalized Fourier-Hermite method for the Vlasov-Poissson system\"  BIT Num. Math., <b>61</b>, 881 (2021).</li>\n",
    "</ol>\n",
    "\n",
    "We follow [3] and recap notation below."
   ]
  },
  {
   "cell_type": "markdown",
   "metadata": {},
   "source": [
    "The Vlasov equation captures the kinetics of charged particles interacting with a self-consistely determined electric field (such as a plasma).  This scheme be extended to include collisional dynamics, multiple species, etc., though we will focus on a single-species system in one spatial dimension (e.g., on the interval $[0,L] \\subset \\mathbb{R}$).  Assuming a charge-neutralizing background, the particle distribution function $f(x,v,t)$ will take the form:\n",
    "\n",
    "\\begin{equation}\n",
    "\\dot{f}(x,v,t) + v\\,\\partial_x f(x,v,t) - E(x,t) \\,\\partial_v f(x,v,t) = 0\n",
    "\\end{equation}\n",
    "\n",
    "Here $E(x,t)$ denotes the electric field strength.  We use $x$ to denote the spatial position $x \\in [0,L]$, write $v \\in \\mathbb{R}$ for the velocity, and let $t \\in \\mathbb{R}$ be our time parameter.  The electric field is obtained by solving the Poisson equation:\n",
    "\n",
    "\\begin{equation}\n",
    "\\dot{E}(x,t) = 1 - \\int f(x,v,t) \\, dv \n",
    "\\end{equation}\n",
    "\n",
    "\n",
    "There are a variety of schemes to solve this system.  We consider the case where the distribution function $f(x,v,t)$ is handled through a <i>dual spectral expansion.</i>  This follows from an expansion of the spatial components in a Fourier basis and the velocity components in a basis of generalied Hermite functions:\n",
    "\n",
    "\\begin{equation}\n",
    "f(x,v,t) = \\sum_{k=-N_x}^{N_x} \\sum_{ell=0}^{N_v-1} c_\\ell^k \\, H_\\ell^{\\gamma,\\epsilon} (v) e^{2\\pi \\imath k x/L} \n",
    "\\end{equation}\n",
    "\n",
    "\n",
    "where $N_x$ and $N_v$ are the number of points in the (Galerkin) spatial and velocity discretizations, respectively.  This introduces two new parameters $\\gamma,\\epsilon$ which control the discretization (see Kormann and Yurova, 2021).\n",
    "\n",
    "The equation of motion for coefficients is:\n",
    "    \n",
    "\\begin{equation}\n",
    "\\dot{c}_\\ell^k (t) = -\\frac{1}{\\gamma \\epsilon \\sqrt{2}}\\frac{2\\pi k \\imath}{L} \\left(\\sqrt{\\ell+1} \\,c_{\\ell+1}^k(t) + \\sqrt{\\ell} \\,c_{\\ell-1}^k(t)\\right) + \\frac{\\epsilon \\sqrt{2}}{\\gamma} \\left((\\gamma^2-1) \\sqrt{\\ell + 1}\\,[\\mathbf{E}(t) * \\mathbf{c}_{\\ell+1}(t) ][k]  - \\sqrt{\\ell}\\,[\\mathbf{E}(t) * \\mathbf{c}_{\\ell-1}(t) ][k]  \\right)\n",
    "\\end{equation}\n",
    "\n",
    "where  the star notation is used to denote a convolution:\n",
    "\n",
    "\n",
    "\\begin{equation}\n",
    "[\\mathbf{E}(t) * \\mathbf{c}_{\\ell+1}(t) ][k] = \\sum_{j=-N_x}^{N_x} E_{k-j} \\, c_\\ell^j(t).\n",
    "\\end{equation}\n",
    "\n",
    "\n",
    "Here, $\\mathbf{E}(t)$ is a coefficient vector with components indexed by $k \\in [-N_x,\\dots,N_x] \\subset \\mathbb{Z}$.  We use mildly abusive notation and take this to be zero for all other values of $k$.  The coefficient vector $\\mathbf{c}(t)$ as components $c_\\ell^k(t)$ and is defined similarly.\n",
    "\n",
    " The electric field components are also introduced through a spectral (Fourier) representation:\n",
    "\n",
    "\\begin{equation}\n",
    "E_k(t) = \\frac{iL}{2\\pi k} \\sum_{\\ell = 0}^{N_v - 1} c_\\ell^k(t) I_\\ell\n",
    "\\end{equation}\n",
    "\n",
    "where we require that $E_0(t) = 0$.  The $I_\\ell$ can be defined using a closed-form expression.  However, it is more numerically stable to determine them recursively:\n",
    "\n",
    "\\begin{equation}\n",
    "I_{\\ell+2} = \\sqrt{\\frac{\\ell+1}{\\ell+2}} \\left(\\gamma^2-1\\right)I_\\ell\n",
    "\\end{equation}"
   ]
  },
  {
   "cell_type": "markdown",
   "metadata": {},
   "source": [
    "The example below gives a numerical linearization.  We use `N_x = 4` and `N_v = 4` for speed, though reasonable toy example might use `N_x = 32` (65 spatial model) and `N_v = 64`.  Calculations with utility would be larger (say `N_x = 1024` or more) along each spatial dimensions and would be done in 2d or 3d."
   ]
  },
  {
   "cell_type": "code",
   "execution_count": 28,
   "metadata": {},
   "outputs": [],
   "source": [
    " \n",
    "N_x       =  4         # Spatial discretization points\n",
    "N_v       =  4         # Velocity discretization points\n",
    "\n",
    "L_x      =  1.0         # Length of spatial domain\n",
    "\n",
    "gamma    =  1.3         # Expansion parameters\n",
    "epsilon  =  1.0\n",
    "\n",
    "dt  = 0.001;      T   = 1.0;        # Maximum time and timestep\n",
    "\n",
    "Nstep = int(np.ceil(T/dt))          # Number of points in spatial domain"
   ]
  },
  {
   "cell_type": "markdown",
   "metadata": {},
   "source": [
    "The vlasov system has first and second order coefficient matrices, which we obtain via `vlasov_spectral_system`.  We can use the keyword `sparse` to get a sparse matrix representation, if desired."
   ]
  },
  {
   "cell_type": "code",
   "execution_count": 29,
   "metadata": {},
   "outputs": [],
   "source": [
    "coeff_set =  vs.vlasov_spectral_system(N_x,N_v,L_x,epsilon,gamma,sparse=True)"
   ]
  },
  {
   "cell_type": "code",
   "execution_count": 30,
   "metadata": {},
   "outputs": [
    {
     "data": {
      "text/plain": [
       "<36x36 sparse matrix of type '<class 'numpy.float64'>'\n",
       "\twith 48 stored elements in COOrdinate format>"
      ]
     },
     "execution_count": 30,
     "metadata": {},
     "output_type": "execute_result"
    }
   ],
   "source": [
    "coeff_set[0]"
   ]
  },
  {
   "cell_type": "markdown",
   "metadata": {},
   "source": [
    "We can convert to ordered pairs for the entries and pair them with the data: "
   ]
  },
  {
   "cell_type": "code",
   "execution_count": 31,
   "metadata": {},
   "outputs": [
    {
     "data": {
      "text/plain": [
       "[((0, 1), -13.67040904048728),\n",
       " ((1, 0), -13.67040904048728),\n",
       " ((1, 2), -19.332877868244882),\n",
       " ((2, 1), -19.332877868244882),\n",
       " ((2, 3), -23.677843018372872),\n",
       " ((3, 2), -23.677843018372872),\n",
       " ((4, 5), -10.25280678036546),\n",
       " ((5, 4), -10.25280678036546),\n",
       " ((5, 6), -14.499658401183662),\n",
       " ((6, 5), -14.499658401183662),\n",
       " ((6, 7), -17.758382263779655),\n",
       " ((7, 6), -17.758382263779655),\n",
       " ((8, 9), -6.83520452024364),\n",
       " ((9, 8), -6.83520452024364),\n",
       " ((9, 10), -9.666438934122441),\n",
       " ((10, 9), -9.666438934122441),\n",
       " ((10, 11), -11.838921509186436),\n",
       " ((11, 10), -11.838921509186436),\n",
       " ((12, 13), -3.41760226012182),\n",
       " ((13, 12), -3.41760226012182),\n",
       " ((13, 14), -4.8332194670612205),\n",
       " ((14, 13), -4.8332194670612205),\n",
       " ((14, 15), -5.919460754593218),\n",
       " ((15, 14), -5.919460754593218),\n",
       " ((20, 21), 3.41760226012182),\n",
       " ((21, 20), 3.41760226012182),\n",
       " ((21, 22), 4.8332194670612205),\n",
       " ((22, 21), 4.8332194670612205),\n",
       " ((22, 23), 5.919460754593218),\n",
       " ((23, 22), 5.919460754593218),\n",
       " ((24, 25), 6.83520452024364),\n",
       " ((25, 24), 6.83520452024364),\n",
       " ((25, 26), 9.666438934122441),\n",
       " ((26, 25), 9.666438934122441),\n",
       " ((26, 27), 11.838921509186436),\n",
       " ((27, 26), 11.838921509186436),\n",
       " ((28, 29), 10.25280678036546),\n",
       " ((29, 28), 10.25280678036546),\n",
       " ((29, 30), 14.499658401183662),\n",
       " ((30, 29), 14.499658401183662),\n",
       " ((30, 31), 17.758382263779655),\n",
       " ((31, 30), 17.758382263779655),\n",
       " ((32, 33), 13.67040904048728),\n",
       " ((33, 32), 13.67040904048728),\n",
       " ((33, 34), 19.332877868244882),\n",
       " ((34, 33), 19.332877868244882),\n",
       " ((34, 35), 23.677843018372872),\n",
       " ((35, 34), 23.677843018372872)]"
      ]
     },
     "execution_count": 31,
     "metadata": {},
     "output_type": "execute_result"
    }
   ],
   "source": [
    "F_1_pairs = list(zip(zip(coeff_set[0].row, coeff_set[0].col),coeff_set[0].data))\n",
    "F_1_pairs"
   ]
  },
  {
   "cell_type": "code",
   "execution_count": 32,
   "metadata": {},
   "outputs": [
    {
     "data": {
      "text/plain": [
       "<36x1296 sparse matrix of type '<class 'numpy.complex128'>'\n",
       "\twith 864 stored elements in COOrdinate format>"
      ]
     },
     "execution_count": 32,
     "metadata": {},
     "output_type": "execute_result"
    }
   ],
   "source": [
    "coeff_set[1]"
   ]
  },
  {
   "cell_type": "markdown",
   "metadata": {},
   "source": [
    "Linearization follows much like the earlier cases:"
   ]
  },
  {
   "cell_type": "code",
   "execution_count": 33,
   "metadata": {},
   "outputs": [],
   "source": [
    "N_lin  =  3                 # linearization order\n",
    "\n",
    "LL = ltools.Linearizer(coeff_set,sparse=True)\n",
    "\n",
    "LL.carleman(N_lin)          # Build the linearization\n",
    "#LL.ivp(u_0)                # Build the IVP data\n",
    "\n",
    "A_s   =  LL.op_s()          # grab the linear evolution matrix\n",
    "#iv  =  LL.iv()             # grab the initial value vector\n"
   ]
  },
  {
   "cell_type": "code",
   "execution_count": 34,
   "metadata": {},
   "outputs": [
    {
     "data": {
      "text/plain": [
       "<1727604x1727604 sparse matrix of type '<class 'numpy.complex128'>'\n",
       "\twith 12570384 stored elements in COOrdinate format>"
      ]
     },
     "execution_count": 34,
     "metadata": {},
     "output_type": "execute_result"
    }
   ],
   "source": [
    "A_s"
   ]
  },
  {
   "cell_type": "code",
   "execution_count": 35,
   "metadata": {},
   "outputs": [],
   "source": [
    "# uncomment below for non-sparse\n",
    "# A  =  LL.op()          # grab the linear evolution matrix\n"
   ]
  },
  {
   "cell_type": "code",
   "execution_count": null,
   "metadata": {},
   "outputs": [],
   "source": []
  },
  {
   "cell_type": "code",
   "execution_count": null,
   "metadata": {},
   "outputs": [],
   "source": []
  }
 ],
 "metadata": {
  "kernelspec": {
   "display_name": "quantum_algorithms-main",
   "language": "python",
   "name": "python3"
  },
  "language_info": {
   "codemirror_mode": {
    "name": "ipython",
    "version": 3
   },
   "file_extension": ".py",
   "mimetype": "text/x-python",
   "name": "python",
   "nbconvert_exporter": "python",
   "pygments_lexer": "ipython3",
   "version": "3.8.16"
  },
  "orig_nbformat": 4
 },
 "nbformat": 4,
 "nbformat_minor": 2
}
