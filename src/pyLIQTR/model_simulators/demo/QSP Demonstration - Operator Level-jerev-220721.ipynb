{
 "cells": [
  {
   "cell_type": "markdown",
   "id": "a0fb108b",
   "metadata": {},
   "source": [
    "<h1>Quantum Signal Processing</h1>\n",
    "\n",
    "<i>Justin E. Elenewski (MIT-LL)</i> <b>:</b> <i>Code Revision 06/24/2022</i>\n",
    "\n",
    "<h2> Distribution Statement </h2>\n",
    "\n",
    "DISTRIBUTION STATEMENT A. Approved for public release. Distribution is unlimited.\n",
    "\n",
    "<br>\n",
    "This material is based upon work supported by the Under Secretary of Defense for\n",
    "Research and Engineering under Air Force Contract No. FA8702-15-D-0001. Any opinions,\n",
    "findings, conclusions or recommendations expressed in this material are those of the\n",
    "author(s) and do not necessarily reflect the views of the Under Secretary of Defense\n",
    "for Research and Engineering.\n",
    "\n",
    "<br>\n",
    "© 2022 Massachusetts Institute of Technology.\n",
    "\n",
    "<br>\n",
    "<br>\n",
    "The software/firmware is provided to you on an As-Is basis\n",
    "\n",
    "<br>\n",
    "<br>\n",
    "Delivered to the U.S. Government with Unlimited Rights, as defined in DFARS Part\n",
    "252.227-7013 or 7014 (Feb 2014). Notwithstanding any copyright notice, U.S. Government\n",
    "rights in this work are defined by DFARS 252.227-7013 or DFARS 252.227-7014 as detailed\n",
    "above. Use of this work other than as specifically authorized by the U.S. Government\n",
    "may violate any copyrights that exist in this work."
   ]
  },
  {
   "cell_type": "markdown",
   "id": "75fbaf1c",
   "metadata": {},
   "source": [
    "This notebook implements quantum signal processing (QSP) at a high-order \"gate-free\" level.  These methods are intended to be useful for both pedagogical purposes and  algorithm development. The notation and formal constructs generally parallel my \"A User's Guide to Quantum Signal Processing and the Quantum Singular Value Transformation,\" though certain key points are recapitulated as needed.\n",
    "\n",
    "In brief, the methods herein deliver complex-valued polynomial transformations $P(\\Lambda), Q(\\Lambda)$ of some normal operator $\\Lambda$ (or matrix) using a QSP sequence:\n",
    "\n",
    "\n",
    "\\begin{equation}\\label{eq:qsp_form_o}\n",
    "\\begin{split}\n",
    "\\mathcal{O}_{\\vec{\\phi}} &= e^{\\imath\\phi_0 \\, Z_\\Pi} \\prod_{k=1}^d \\left[U_\\Lambda Z_\\Pi e^{\\imath\\phi_k \\, Z_\\Pi}\\right] \\\\\n",
    "&= e^{\\imath\\phi_0 \\, Z} \\prod_{k=1}^d \\left[R(\\Lambda) e^{\\imath\\phi_k \\, Z}\\right] = \\begin{pmatrix} P(\\Lambda) & Q(\\Lambda) \\\\ Q^\\dagger(\\Lambda) & P(\\Lambda)  \\end{pmatrix}.\n",
    "\\end{split}\n",
    "\\end{equation}\n",
    "\n",
    "This sequence is assembled from several constituents, including a minimal unitary block encoding $U_\\Lambda$ for $\\Lambda$ that is given by,\n",
    "\n",
    "\\begin{equation}\n",
    "U(\\Lambda) =\\begin{pmatrix} \\Lambda & \\sqrt{1-\\Lambda^2} \\\\ \\sqrt{1 - \\Lambda^2} & -\\Lambda^\\dagger, \\end{pmatrix},  \\hspace{40pt} \\Lambda = \\big(\\langle G | \\otimes I_n\\big) \\, U_\\Lambda \\, \\big(| G \\rangle \\otimes I_n\\big).\n",
    "\\end{equation} \n",
    "\n",
    "This allows us to access our target operator $\\Lambda$ using a qubitized signal state $|G\\rangle$.  While practical implementations will take  $|G\\rangle$ to be a set of $m$-ancilla $|G\\rangle \\equiv |0^m\\rangle$ in a so-called control register (which ultimately manipulate select and prepare oracles), we are free to use a single ancilla  $|G\\rangle = |0\\rangle$ in this gate-free implementation.  Furthermore, the qubitized reflection $Z_\\Pi$ and rotation operators $Z_{\\Pi,\\phi}$ are respectively equivalent to the pauli $Z$ operator and a $z$-rotation when dealing with a single ancilla.   The product $R(\\Lambda) = U_\\Lambda \\cdot Z$ defines an SU(2) $y$-rotation operator  which acts in our qubitized Hilbert space.\n",
    "\n",
    "During QSP, the $y$-rotation $R(\\Lambda)$ defined above is interleaved with a cascade of $z$-rotations, each specified by a given phase angle $\\{\\phi_0, \\dots, \\phi_d\\}$.  These angles are calculated (using classical fitting routes) to reproduce our target polynomal transformations:\n",
    "\n",
    "\n",
    "\n",
    "\\begin{equation}\n",
    "\\begin{split}\n",
    "\\mathcal{O}_{\\vec{\\phi}} = e^{i \\phi_0 \\hat{Z}}\\, R \\, e^{i \\phi_1 \\hat{Z}}\\,  R \\,  \\dots \\,  R  \\, e^{i \\phi_d \\hat{Z}}\\, = \\begin{pmatrix} P(\\Lambda) & Q(\\Lambda) \\\\ Q^\\dagger(\\Lambda) & P(\\Lambda)  \\end{pmatrix}\n",
    "\\end{split}\n",
    "\\end{equation}\n",
    "\n",
    "While this expression is equivalent those at the beginning of our dicussion, it is helpful to see the explicit cascade.  This sequence is precisely the quantity that our code computes."
   ]
  },
  {
   "cell_type": "markdown",
   "id": "a5053504",
   "metadata": {},
   "source": [
    "<h2>Numerical Results</h2>"
   ]
  },
  {
   "cell_type": "markdown",
   "id": "310f91a0",
   "metadata": {},
   "source": [
    "<h3>Quick Demonstration</h3>"
   ]
  },
  {
   "cell_type": "markdown",
   "id": "e0b628f8",
   "metadata": {},
   "source": [
    "We begin by loading routines from the `qspsim` module, though several helpful accessory functions are also contained within the `vlasovsim` module (<i>Note: these should probably be split out into a separate module at some point</i>)."
   ]
  },
  {
   "cell_type": "code",
   "execution_count": 7,
   "id": "bbd2ba72",
   "metadata": {},
   "outputs": [],
   "source": [
    "import inspect\n",
    "\n",
    "import numpy                as np\n",
    "import numpy.linalg         as nla\n",
    "import scipy.linalg         as sla\n",
    "\n",
    "import vlasovsim            as vs\n",
    "import qspsim               as qsp\n",
    "\n",
    "import matplotlib.pyplot    as plt\n"
   ]
  },
  {
   "cell_type": "markdown",
   "id": "77ab6119",
   "metadata": {},
   "source": [
    "For demonstrative purposes, we define a simple 'toy' Hamiltonian for QSP.  A good test is the three-site ($N=3$) transverse-field Ising model,\n",
    "\n",
    "\\begin{equation}\n",
    "H = J\\sum_{i=1}^{N-1} Z_i \\otimes Z_{i+1} + g \\sum_{i=1}^N X_i,\n",
    "\\end{equation}\n",
    "\n",
    "which we define using several helpful methods from `vlasovsim`:"
   ]
  },
  {
   "cell_type": "code",
   "execution_count": 8,
   "id": "ecc10713",
   "metadata": {},
   "outputs": [],
   "source": [
    "\n",
    "J = -0.1\n",
    "g = 0.25\n",
    "\n",
    "H = J*(vs.multikron((vs.pz,vs.pz,vs.id)) + vs.multikron((vs.id,vs.pz,vs.pz))) + \\\n",
    "     g*(vs.multikron((vs.px,vs.id,vs.id)) + vs.multikron((vs.id,vs.px,vs.id)) + \\\n",
    "       vs.multikron((vs.id,vs.id,vs.px)))\n"
   ]
  },
  {
   "cell_type": "markdown",
   "id": "fc18c56c",
   "metadata": {},
   "source": [
    "We need to ensure that the norm of the Hamiltonian $\\Lambda \\equiv H$ is consistent with a contractive operator $|| \\Lambda || \\leq 1$, as required for existence of a block encoding (similarly that the eigenvalues $\\lambda \\in [-1,1]$).  While the values of $J$ and $g$ adopted above ensure that this will be true, we can always rescale $H$ by a constant $\\alpha$ if necessary."
   ]
  },
  {
   "cell_type": "code",
   "execution_count": 9,
   "id": "fc54bfe9",
   "metadata": {},
   "outputs": [
    {
     "data": {
      "text/plain": [
       "array([-0.76999232,  0.76999232, -0.40038104,  0.40038104,  0.11961128,\n",
       "       -0.11961128,  0.25      , -0.25      ])"
      ]
     },
     "execution_count": 9,
     "metadata": {},
     "output_type": "execute_result"
    }
   ],
   "source": [
    "\n",
    "ham_eigs = nla.eigvals(H).real\n",
    "ham_eigs\n"
   ]
  },
  {
   "cell_type": "code",
   "execution_count": 10,
   "id": "800ff54d",
   "metadata": {},
   "outputs": [
    {
     "data": {
      "text/plain": [
       "True"
      ]
     },
     "execution_count": 10,
     "metadata": {},
     "output_type": "execute_result"
    }
   ],
   "source": [
    "\n",
    "(np.sqrt(max(ham_eigs)) <= 1.0)\n"
   ]
  },
  {
   "cell_type": "markdown",
   "id": "b8f503a4",
   "metadata": {},
   "source": [
    "The reference implementation of QSP from this notebook assumes that we use $|+\\rangle$ as our signal state.  As such, we combine this with the identity operator $I_n$ on the three system qubits in the domain of $H$:"
   ]
  },
  {
   "cell_type": "code",
   "execution_count": 11,
   "id": "fe7cd7c2",
   "metadata": {},
   "outputs": [],
   "source": [
    "\n",
    "sig    = (1.0 / np.sqrt(2.0))*np.array([1,1])\n",
    "\n",
    "sig_id = vs.multikron((sig,vs.id,vs.id,vs.id))\n"
   ]
  },
  {
   "cell_type": "markdown",
   "id": "6a6aaf5b",
   "metadata": {},
   "source": [
    "The `qspsim` module conatins a routines that allow us to explicitly define the block encoding (as we will demonstrate below).  In the meantime, there is a precanned routine in `qspsim`  that computes $\\exp[-\\imath \\delta t \\cdot H]$ for $\\delta t = 10$ as a quick validation.  The aformentioned block encoding is given by:"
   ]
  },
  {
   "cell_type": "code",
   "execution_count": 12,
   "id": "9cd9ef80",
   "metadata": {},
   "outputs": [],
   "source": [
    "\n",
    "Ut_block_qsp = qsp.qsp_exp_sim_r(H)\n"
   ]
  },
  {
   "cell_type": "markdown",
   "id": "5a6e86e4",
   "metadata": {},
   "source": [
    "and the target operator may be accessed by taking the inner product with the signal state,"
   ]
  },
  {
   "cell_type": "code",
   "execution_count": 13,
   "id": "6c4074d2",
   "metadata": {},
   "outputs": [],
   "source": [
    "\n",
    "Ut_qsp       = vs.ip_sv_expect(sig_id.T,Ut_block_qsp,sig_id.T) \n"
   ]
  },
  {
   "cell_type": "markdown",
   "id": "f335d070",
   "metadata": {},
   "source": [
    "We can compare this to an explicit calculation of the matrix exponential:"
   ]
  },
  {
   "cell_type": "code",
   "execution_count": 14,
   "id": "09a48358",
   "metadata": {},
   "outputs": [],
   "source": [
    "\n",
    "Ut_exact = sla.expm(-10.0j*H)\n"
   ]
  },
  {
   "cell_type": "markdown",
   "id": "04b9fae8",
   "metadata": {},
   "source": [
    "and quantify how well the QSP propagator `Ut_block_qsp` reproduces this exact result `Ut_qsp` by calculating the trace-distance between their matrix representations:"
   ]
  },
  {
   "cell_type": "code",
   "execution_count": 15,
   "id": "0223b912",
   "metadata": {},
   "outputs": [
    {
     "data": {
      "text/plain": [
       "0.01987298469274404"
      ]
     },
     "execution_count": 15,
     "metadata": {},
     "output_type": "execute_result"
    }
   ],
   "source": [
    "\n",
    "qsp.trace_distance(Ut_qsp,Ut_exact).real\n"
   ]
  },
  {
   "cell_type": "markdown",
   "id": "5a3343cb",
   "metadata": {},
   "source": [
    "This is on par with what we expect for the $\\epsilon \\approx 10^{-2}$ encoding that is delivered by the included phase angle sequence."
   ]
  },
  {
   "cell_type": "markdown",
   "id": "75cba3f2",
   "metadata": {},
   "source": [
    "<h3>A Few More Details...</h3>"
   ]
  },
  {
   "cell_type": "code",
   "execution_count": null,
   "id": "851e5ab2",
   "metadata": {},
   "outputs": [],
   "source": []
  },
  {
   "cell_type": "markdown",
   "id": "d85a0b5b",
   "metadata": {},
   "source": [
    "The `qspsim` routines allow more finely-grained control than implied above.  In particular, we can quickly calculate the explicit reflection operators $U_H$ = `Ua`, $Z_\\Pi$ = `ZPi` for the QSP sequence, as well as the qubitized identity operator `Id`, by using the routine `get_qsp_operators_r()`:\n",
    "\n",
    "\n"
   ]
  },
  {
   "cell_type": "code",
   "execution_count": 16,
   "id": "421d9632",
   "metadata": {},
   "outputs": [],
   "source": [
    "\n",
    "Ua,ZPi,IdM = qsp.get_qsp_operators_r(H)\n"
   ]
  },
  {
   "cell_type": "markdown",
   "id": "34036cee",
   "metadata": {},
   "source": [
    "Moreover, we can compute the $y$-rotation $R(H) = $ `Rot` from the QSP sequence:"
   ]
  },
  {
   "cell_type": "code",
   "execution_count": 17,
   "id": "60a82aa5",
   "metadata": {},
   "outputs": [],
   "source": [
    "\n",
    "Rot = np.matmul(Ua,ZPi)\n"
   ]
  },
  {
   "cell_type": "markdown",
   "id": "77b6323c",
   "metadata": {},
   "source": [
    "Taking these components together - alongside a set of phase angles that specify our target function - we can calculate the full QSP sequence using `qsp_sequence()`.  We demonstrate this below using precomputed angles (`phaseCos1x`, `phaseSin1x`) that reproduce $\\sin(\\delta t H)$ and $\\cos(\\delta t H)$ for $\\delta t = 1.0$:\n"
   ]
  },
  {
   "cell_type": "code",
   "execution_count": 18,
   "id": "8236c0c0",
   "metadata": {},
   "outputs": [],
   "source": [
    "\n",
    "op_cos = qsp.qsp_sequence(Rot,ZPi,qsp.phaseCos1x)\n",
    "op_sin = qsp.qsp_sequence(Rot,ZPi,qsp.phaseSin1x)\n"
   ]
  },
  {
   "cell_type": "markdown",
   "id": "1024a028",
   "metadata": {},
   "source": [
    "These specific angles were computed using the Laurent polynomial method from `pyqsp` package of Isaac Chuang (https://github.com/ichuang/pyqsp). Nonetheless, any determination in the \"R\"-formalism of QSP will suffice (and any other convention may be adopted to this through an appropriate shift of phase angles).  Higher precision is available through optimization-based methods, which we include in a separate module.\n",
    "\n",
    "We now combine these components to obtain the exponential $\\exp(-\\imath \\delta t \\cdot H) = \\cos(\\delta t H) - \\imath \\sin(\\delta t H)$.  This process would be accomplished using controlled operations  in a real, gate-based calculation (which we could certainly do here). For now we simply sum these by hand:"
   ]
  },
  {
   "cell_type": "code",
   "execution_count": 19,
   "id": "63cf6684",
   "metadata": {},
   "outputs": [],
   "source": [
    "\n",
    "op_cos = op_cos + np.conj(op_cos)\n",
    "op_sin = op_sin + np.conj(op_sin)\n",
    "\n",
    "# Generate the qubitized exponential operator\n",
    "Ut_block_qsp = op_cos - 1j*op_sin\n"
   ]
  },
  {
   "cell_type": "markdown",
   "id": "ed5fcbc9",
   "metadata": {},
   "source": [
    "Once again, we extract the representation from our block encoding:"
   ]
  },
  {
   "cell_type": "code",
   "execution_count": 20,
   "id": "9cd40532",
   "metadata": {},
   "outputs": [],
   "source": [
    "\n",
    "Ut_qsp       = vs.ip_sv_expect(sig_id.T,Ut_block_qsp,sig_id.T) \n"
   ]
  },
  {
   "cell_type": "markdown",
   "id": "6d86ce1e",
   "metadata": {},
   "source": [
    "And  compare with the direct matrix exponential:"
   ]
  },
  {
   "cell_type": "code",
   "execution_count": 21,
   "id": "28c5d839",
   "metadata": {},
   "outputs": [
    {
     "data": {
      "text/plain": [
       "0.00039461537941582224"
      ]
     },
     "execution_count": 21,
     "metadata": {},
     "output_type": "execute_result"
    }
   ],
   "source": [
    "\n",
    "Ut_exact = sla.expm(-1.0j*H)\n",
    "\n",
    "\n",
    "qsp.trace_distance(Ut_qsp,Ut_exact).real\n"
   ]
  },
  {
   "cell_type": "markdown",
   "id": "bb6fc361",
   "metadata": {},
   "source": [
    "We see bettter agreement since the underlying phase angle sequences are now computed as an $\\epsilon \\approx 10^{-3}$ fit."
   ]
  },
  {
   "cell_type": "markdown",
   "id": "4205a42b",
   "metadata": {},
   "source": [
    "<h3>A Quantiative Comparison</h3>"
   ]
  },
  {
   "cell_type": "markdown",
   "id": "f6a9b301",
   "metadata": {},
   "source": [
    "We can make one additional comparison.  Let's try working with the operator\n",
    "\n",
    "\\begin{equation}\n",
    "Z_x = \\begin{pmatrix} x & 0 \\\\ 0 & -x\\end{pmatrix}\n",
    "\\end{equation}\n",
    "\n",
    "and scrutinize the QSP approximation for several values of $x$."
   ]
  },
  {
   "cell_type": "code",
   "execution_count": 22,
   "id": "e7a54dfe",
   "metadata": {},
   "outputs": [],
   "source": [
    "def Zx(x):\n",
    "    \n",
    "    M = np.array([[x,0.0],[0.0,-x]])\n",
    "    \n",
    "    return(M)\n",
    "\n",
    "\n",
    "vals = [x for x in np.linspace(-1.0,1.0,num=128)]\n",
    "\n",
    "qspr      = np.zeros(len(vals))\n",
    "\n",
    "\n",
    "for j in range(len(vals)):\n",
    "    \n",
    "    Ua,ZPi,IdM = qsp.get_qsp_operators_r(Zx(vals[j]))\n",
    "    Rot = np.matmul(Ua,ZPi)\n",
    "    \n",
    "    op_cos = qsp.qsp_sequence(Rot,ZPi,qsp.phaseCos10x)\n",
    "    \n",
    "    op_cos = op_cos + np.conj(op_cos)\n",
    "\n",
    "    qspr[j]     = (op_cos[0,0]).real\n"
   ]
  },
  {
   "cell_type": "markdown",
   "id": "303a879b",
   "metadata": {},
   "source": [
    "Once again, we plot this versus the exact result:"
   ]
  },
  {
   "cell_type": "code",
   "execution_count": 23,
   "id": "21fe4f78",
   "metadata": {},
   "outputs": [],
   "source": [
    "ref_cos      = np.zeros(len(vals))\n",
    "\n",
    "for j in range(len(vals)):\n",
    "    ref_cos[j]  = np.cos(10*vals[j])\n"
   ]
  },
  {
   "cell_type": "code",
   "execution_count": 24,
   "id": "2ff6d7e1",
   "metadata": {},
   "outputs": [
    {
     "data": {
      "image/png": "[encoded data removed]",
      "text/plain": [
       "<Figure size 600x400 with 1 Axes>"
      ]
     },
     "metadata": {
      "needs_background": "light"
     },
     "output_type": "display_data"
    }
   ],
   "source": [
    "\n",
    "plt.figure(dpi=100)\n",
    "plt.rcParams['text.usetex'] = True\n",
    "\n",
    "\n",
    "plt.plot(vals,qspr, linewidth=3.5)\n",
    "plt.plot(vals,ref_cos, linestyle=\"--\", linewidth=1.25,color=\"white\")\n",
    "plt.xlabel(r'$x$',fontsize=16)\n",
    "plt.ylabel(r'$\\cos\\,(\\delta t \\cdot x)$   [$\\delta t = 10$]', fontsize=16)\n",
    "\n",
    "plt.show()"
   ]
  },
  {
   "cell_type": "markdown",
   "id": "a85bc6e0",
   "metadata": {},
   "source": [
    "Which shows good qualitative agreement with our expectations.  We also compute the error in the estimate:"
   ]
  },
  {
   "cell_type": "code",
   "execution_count": 25,
   "id": "3f67c1fb",
   "metadata": {},
   "outputs": [
    {
     "data": {
      "image/png": "[encoded data removed]",
      "text/plain": [
       "<Figure size 600x400 with 1 Axes>"
      ]
     },
     "metadata": {
      "needs_background": "light"
     },
     "output_type": "display_data"
    }
   ],
   "source": [
    "\n",
    "plt.figure(dpi=100)\n",
    "plt.rcParams['text.usetex'] = True\n",
    "\n",
    "err_cos = np.abs((qspr - ref_cos) / ref_cos)\n",
    "\n",
    "plt.plot(vals,err_cos, linewidth=2.0)\n",
    "plt.xlabel(r'$x$',fontsize=16)\n",
    "plt.ylabel(r'Relative Error in $\\cos (\\delta t \\cdot x)$', fontsize=14)\n",
    "\n",
    "plt.show()"
   ]
  },
  {
   "cell_type": "markdown",
   "id": "d44d4ddb",
   "metadata": {},
   "source": [
    "Which lies at $\\epsilon \\approx 10^{-2}$ for expansion about $x = 0$."
   ]
  },
  {
   "cell_type": "markdown",
   "id": "9f9dcb0c",
   "metadata": {},
   "source": [
    "<h2>Plasma Applications: Vlasov-Hermite Hamiltonian</h2>"
   ]
  },
  {
   "cell_type": "markdown",
   "id": "04e9e703",
   "metadata": {},
   "source": [
    "We can apply the same QSP methods to the Pauli encoding of the Vlasov Hamiltonian,\n",
    "\n",
    "\n",
    "\\begin{equation}\n",
    "H_V = \\frac{1}{2} \\sum_{m=0}^{N-2} \\sqrt{\\frac{1 + m + \\alpha \\delta_{m,0}}{2}} \\big(X_m X_{m+1} + Y_m Y_{m+1} \\big)  - \\imath \\nu \\sum_{m=2}^{N-1} m \\Big(\\frac{I+Z_m}{2}\\Big),\n",
    "\\end{equation}\n",
    "\n",
    "using the tools in the `vlasovsim` module.  We compute the Hamiltonian directly:"
   ]
  },
  {
   "cell_type": "code",
   "execution_count": 26,
   "id": "066f9316",
   "metadata": {},
   "outputs": [],
   "source": [
    "N      =  4                                    # Number of terms in the Vlasov-Hermite \n",
    "                                               # expansion\n",
    "\n",
    "k      =  2.0                                  # Fourier wavenumber\n",
    "\n",
    "nu     =  0.0                                  # Collisional damping parameter\n",
    "                                               # (for use only with statevector propagation)\n",
    "\n",
    "alpha  =  0.6                                  # Electric field parameter\n",
    "\n",
    "Hv_wfn  = vs.hamiltonian_wfn_vlasov_hermite_linear_sym(k,alpha,nu,N)\n"
   ]
  },
  {
   "cell_type": "markdown",
   "id": "f9c4495e",
   "metadata": {},
   "source": [
    "The norm condition is not met in this case; thus we need to divide by the maximal eigenvalue.  Note that this is equivalent to a rescaling of the time parameter $\\delta t$ in the opertor evalution."
   ]
  },
  {
   "cell_type": "code",
   "execution_count": 27,
   "id": "d9368f0c",
   "metadata": {},
   "outputs": [
    {
     "name": "stdout",
     "output_type": "stream",
     "text": [
      "Max. eigenvalue unscaled: \t 4.686529731057156\n",
      "Max. eigenvalue rescaled: \t 0.9999999999999996\n"
     ]
    }
   ],
   "source": [
    "\n",
    "max_eig = np.max(sla.eig(Hv_wfn)[0]).real\n",
    "print(\"Max. eigenvalue unscaled: \\t\", max_eig)\n",
    "\n",
    "Hv_wfn = (Hv_wfn / max_eig).real\n",
    "print(\"Max. eigenvalue rescaled: \\t\",np.max(sla.eig(Hv_wfn)[0]).real)\n"
   ]
  },
  {
   "cell_type": "markdown",
   "id": "15491a27",
   "metadata": {},
   "source": [
    "Once again, we form the signal state and compute the expectation value with respect to the QSP sequence:"
   ]
  },
  {
   "cell_type": "code",
   "execution_count": 28,
   "id": "c19cf4b2",
   "metadata": {},
   "outputs": [],
   "source": [
    "\n",
    "\n",
    "sig    = (1.0 / np.sqrt(2.0))*np.array([1,1])\n",
    "sig_id = vs.multikron((sig,vs.id,vs.id,vs.id,vs.id))\n",
    "\n",
    "\n",
    "Ut_vlasov_block_qsp   =  qsp.qsp_exp_sim_r(Hv_wfn)\n",
    "Ut_vlasov_qsp         =  vs.ip_sv_expect(sig_id.T,Ut_vlasov_block_qsp,sig_id.T) \n"
   ]
  },
  {
   "cell_type": "markdown",
   "id": "0461257f",
   "metadata": {},
   "source": [
    "And compute the exact result for comparison,"
   ]
  },
  {
   "cell_type": "code",
   "execution_count": 29,
   "id": "69d2a2a3",
   "metadata": {},
   "outputs": [],
   "source": [
    "\n",
    "Ut_vlasov_exact = sla.expm(-10.0j*Hv_wfn)\n"
   ]
  },
  {
   "cell_type": "markdown",
   "id": "c2c3c2f9",
   "metadata": {},
   "source": [
    "thus finding the expected level of agreement via the trace distance:"
   ]
  },
  {
   "cell_type": "code",
   "execution_count": 30,
   "id": "b047e46b",
   "metadata": {},
   "outputs": [
    {
     "data": {
      "text/plain": [
       "0.04015490167891208"
      ]
     },
     "execution_count": 30,
     "metadata": {},
     "output_type": "execute_result"
    }
   ],
   "source": [
    "\n",
    "qsp.trace_distance(Ut_vlasov_qsp,Ut_vlasov_exact).real\n",
    "\n"
   ]
  },
  {
   "cell_type": "code",
   "execution_count": null,
   "id": "85f08dd0",
   "metadata": {},
   "outputs": [],
   "source": []
  }
 ],
 "metadata": {
  "kernelspec": {
   "display_name": "Python 3.6.9 64-bit",
   "language": "python",
   "name": "python3"
  },
  "language_info": {
   "codemirror_mode": {
    "name": "ipython",
    "version": 3
   },
   "file_extension": ".py",
   "mimetype": "text/x-python",
   "name": "python",
   "nbconvert_exporter": "python",
   "pygments_lexer": "ipython3",
   "version": "3.6.9"
  },
  "vscode": {
   "interpreter": {
    "hash": "31f2aee4e71d21fbe5cf8b01ff0e069b9275f58929596ceb00d14d90e3e16cd6"
   }
  }
 },
 "nbformat": 4,
 "nbformat_minor": 5
}
